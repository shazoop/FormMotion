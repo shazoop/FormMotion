{
 "cells": [
  {
   "cell_type": "code",
   "execution_count": 1,
   "metadata": {},
   "outputs": [],
   "source": [
    "import torch\n",
    "import numpy as np\n",
    "%matplotlib inline\n",
    "import matplotlib.pyplot as plt\n",
    "from skimage.draw import random_shapes\n",
    "import cv2\n",
    "import random\n",
    "import torch.nn.functional as f\n",
    "from numba import njit"
   ]
  },
  {
   "cell_type": "code",
   "execution_count": 2,
   "metadata": {},
   "outputs": [],
   "source": [
    "#Function to generate a dimxdim image of a random shape of a size between given bounds\n",
    "def shape_gen(dim, minimum,maximum):\n",
    "    x = random_shapes((dim, dim), max_shapes=1, multichannel=False, intensity_range=(0,0),min_size = minimum, max_size=maximum)[0]\n",
    "    x = (-1*x+255)/255\n",
    "    return(x)"
   ]
  },
  {
   "cell_type": "code",
   "execution_count": 3,
   "metadata": {},
   "outputs": [],
   "source": [
    "imgDim = 16 #image dimension\n",
    "mov_length = 8 "
   ]
  },
  {
   "cell_type": "code",
   "execution_count": 51,
   "metadata": {},
   "outputs": [],
   "source": [
    "#Create array of start images\n",
    "images_seq = [shape_gen(imgDim,4,10) for i in range(100000)]\n",
    "images_seq = np.array(images_seq)\n",
    "images_seq = np.expand_dims(images_seq,1)\n",
    "\n",
    "test_seq = [shape_gen(imgDim,4,10) for i in range(1000)]\n",
    "test_seq = np.array(test_seq)\n",
    "test_seq = np.expand_dims(test_seq,1)"
   ]
  },
  {
   "cell_type": "code",
   "execution_count": 54,
   "metadata": {},
   "outputs": [],
   "source": [
    "#For a given collection of start images with (n,1,k,k), with n images of dimension k by k. Trans_range is one-sided,\n",
    "#so trans_range = 4 allows translations of 4 up or down, 4 left or right. same for rot_center, how much the center of \n",
    "#rotation can shift to one-side both up/down. rot_angle is maximum angle in DEGREES\n",
    "def rand_trans(data, trans_range, rot_center, rot_angle): \n",
    "    def M_gen(i):\n",
    "        hor = random.randint(-trans_range, trans_range)\n",
    "        ver = random.randint(-trans_range, trans_range)\n",
    "        x = np.float32([[1,0,hor],[0,1,ver]]) #create translation matrix\n",
    "        \n",
    "        return(x)\n",
    "    \n",
    "    Z = np.array([M_gen(i) for i in range(data.shape[0])])\n",
    "    \n",
    "    return(Z)\n",
    "    "
   ]
  },
  {
   "cell_type": "code",
   "execution_count": 58,
   "metadata": {},
   "outputs": [],
   "source": [
    "M = rand_trans(images_seq, 1, 0, 45)\n",
    "M2 = rand_trans(test_seq, 1, 0, 45)"
   ]
  },
  {
   "cell_type": "code",
   "execution_count": 59,
   "metadata": {},
   "outputs": [],
   "source": [
    "#for a given collection of start images - \"data\" - and their associated transformations -\"transform\", one for each start image-\n",
    "#will generate a movie sequence of the desired length. note \"data\" should be np.array of shape (n,1,k,k).\n",
    "def image_gen(data, transform, movie_len,imgDim):\n",
    "    X = data\n",
    "    for j in range(movie_len-1):\n",
    "        Y = np.array([cv2.warpAffine(X[i,j],transform[i],(imgDim,imgDim)) for i in range(data.shape[0])])\n",
    "        Y = np.expand_dims(Y,1) #add the second axis, which denotes time, to concatenate the images\n",
    "        X = np.concatenate((X,Y),axis=1)\n",
    "    \n",
    "    X = X.reshape(X.shape[0],X.shape[1],X.shape[2]**2)\n",
    "    return(X) #reshape so it's easier to work with"
   ]
  },
  {
   "cell_type": "code",
   "execution_count": 70,
   "metadata": {},
   "outputs": [],
   "source": [
    "dataNP = image_gen(images_seq, M, mov_length, imgDim)\n",
    "test_rawNP = image_gen(test_seq, M2, mov_length, imgDim)\n",
    "\n",
    "data = torch.from_numpy(image_gen(images_seq, M, mov_length, imgDim)).cuda()\n",
    "data = data.float()"
   ]
  },
  {
   "cell_type": "code",
   "execution_count": 62,
   "metadata": {},
   "outputs": [],
   "source": [
    "def multi_gen(test_seq, testSize, maxShapes):\n",
    "    \n",
    "    #Set up first array, then just loop by concatenating.\n",
    "    \n",
    "    test_data = test_seq[np.random.randint(0,test_seq.shape[0],maxShapes)] #choose random number of movie sequences\n",
    "    test_data = np.sum(test_data,axis= 0) #sum them together\n",
    "    test_data[test_data > 1] = 1 #cap images at 1\n",
    "    test_data = np.expand_dims(test_data, axis = 0) #add back the extra first axis, which indexes every movie sequence\n",
    "    \n",
    "    for datum in range(1,testSize):\n",
    "        subset = test_seq[np.random.randint(0,test_seq.shape[0],maxShapes)]\n",
    "        subset = np.sum(subset,axis=0)\n",
    "        subset[subset > 1] = 1\n",
    "        subset = np.expand_dims(subset, axis = 0)\n",
    "        test_data = np.concatenate((test_data,subset),axis=0)\n",
    "    \n",
    "    return(test_data)"
   ]
  },
  {
   "cell_type": "code",
   "execution_count": 63,
   "metadata": {},
   "outputs": [],
   "source": [
    "testNP = multi_gen(test_rawNP, 100, 2)\n",
    "test = torch.from_numpy(testNP)\n",
    "test = test.float().cuda()"
   ]
  },
  {
   "cell_type": "code",
   "execution_count": 64,
   "metadata": {},
   "outputs": [],
   "source": [
    "#Rationale: since movies of multiple objects, with overlap, will just be sum of two images with values capped at 255,\n",
    "#want transforms to reflect this ceiling like behavior or else prediction might be bad. \n",
    "#Will use a smooth squashing function, tanh.\n",
    "\n",
    "def squash(x):\n",
    "    y = 1.3*torch.tanh(x) #1.3 so will be approxiamtely linear on [-1,1]\n",
    "    return(y)\n",
    "\n",
    "def squash_deriv(x):\n",
    "    y = 1.3*(1-torch.tanh(x)**2)\n",
    "    return(y)\n",
    "\n",
    "def squashNP(x):\n",
    "    y = 1.3*np.tanh(x) #1.3 so will be approxiamtely linear on [-1,1]\n",
    "    return(y)\n",
    "\n",
    "def squash_derivNP(x):\n",
    "    y = 1.3*(1-np.tanh(x)**2)\n",
    "    return(y)"
   ]
  },
  {
   "cell_type": "code",
   "execution_count": null,
   "metadata": {},
   "outputs": [],
   "source": [
    "numTransforms = 16\n",
    "trainSteps = 1000\n",
    "batchSize = 25 #training \n",
    "sparsePen = 12\n",
    "derivPen = 12\n",
    "epsilon = 1 #variance of normal desntiy in the smoothed bump function.\n",
    "eta = .02 #learning rate of phi, the dictionary of transforms\n",
    "eta2 = .02 #learning rate of beta, the transform coeff\n",
    "eta3 = 1000 #Learning rate of center\n",
    "eta4 = 1000 #Learning rate of radii\n",
    "numInference = 150 #arbitrary\n",
    "numInf2 = 40\n",
    "betaStep = 20 #FOR TRAINED TRANSFORMS. mini cycle for beta\n",
    "attStep = 20 #FOR TRAINED TRANSFORMS. mini cycle for center/radii"
   ]
  },
  {
   "cell_type": "code",
   "execution_count": 67,
   "metadata": {},
   "outputs": [],
   "source": [
    "#Training algorithm, image sequences with one shape. No need to infer center/radii yet.\n",
    "def timeDeriv(beta):\n",
    "    #assuming beta has shape btk, where k for trans, t for length, B for number of images (usually batch size)\n",
    "    \n",
    "    Zeroes = torch.zeros((beta.size()[0],1,beta.size()[2])).cuda()\n",
    "    timeDiff = beta[:,1:,:] - beta[:,:(beta.size(1)-1),:]\n",
    "    tmDiffnorm = torch.norm(timeDiff, p=1, dim=1)\n",
    "    deriv_part1 = (tmDiffnorm/(tmDiffnorm**2+1)).unsqueeze(1) #normalize across time\n",
    "    X = torch.cat((Zeroes, timeDiff), 1)\n",
    "    Y = torch.cat((timeDiff,Zeroes), 1)\n",
    "    Z = torch.sign(X) - torch.sign(Y)\n",
    "    timeBeta = deriv_part1*Z\n",
    "    \n",
    "    return(timeBeta)\n",
    "\n",
    "def timeDerivNP(beta):\n",
    "    #assuming beta has shape btk, where k for trans, t for length, B for number of images (usually batch size)\n",
    "    \n",
    "    Zeroes = np.zeros((beta.shape[0],1,beta.shape[2]))\n",
    "    timeDiff = np.diff(beta, axis= 1)\n",
    "    tmDiffnorm = np.linalg.norm(timeDiff, ord = 1, axis=1)#normalize across time\n",
    "    deriv_part1 = tmDiffnorm/(tmDiffnorm**2+1) \n",
    "    deriv_part1 = np.expand_dims(deriv_part1, axis = 1)\n",
    "    X = np.concatenate((Zeroes, timeDiff), axis=1)\n",
    "    Y = np.concatenate((timeDiff,Zeroes), axis =1)\n",
    "    Z = np.sign(X)-np.sign(Y)\n",
    "    timeBeta = np.multiply(deriv_part1,Z)\n",
    "    \n",
    "    return(timeBeta)\n",
    "\n",
    "\n",
    "def sparseDeriv(beta):\n",
    "    #assume beta has shape btk.\n",
    "    \n",
    "    norm_beta = np.linalg.norm(beta, ord = 1, axis=2) #normalize btk, for all batches and time\n",
    "    deriv_part1 = norm_beta/(norm_beta**2+1)\n",
    "    deriv_part1 = deriv_part1.unsqueeze(2)\n",
    "    sparseBeta = deriv_part1*torch.sign(beta)\n",
    "    \n",
    "    return(sparseBeta)\n",
    "\n",
    "def sparseDerivNP(beta):\n",
    "    #assume beta has shape btk.\n",
    "    \n",
    "    norm_beta = np.linalg.norm(beta,ord=1, axis=2) #normalize btk, for all batches and time\n",
    "    deriv_part1 = norm_beta/(norm_beta**2+1)\n",
    "    deriv_part1 = np.expand_dims(deriv_part1, axis = 2)\n",
    "    sparseBeta = np.multiply(deriv_part1,np.sign(beta))\n",
    "    \n",
    "    return(sparseBeta)\n",
    "\n",
    "def inferBeta(Input, Output, phi, sparsePen, derivPen, eta2):\n",
    "    #Assume data has shape (B, T, n2), where number of images(usually batch size) , T is time, and n2 is n^2 for nxn image\n",
    "    #phi is of shape (i,i',k) where i,i' denote image dim, k denotes transform, T is time, and B is batch\n",
    "    #Input are first T-1 frames. Output are frames 2 to T. Infer i^th frame from previous.\n",
    "    \n",
    "    beta = torch.rand((Input.size()[0],Input.size()[1],phi.size()[2])).cuda() #initialize beta at 0. beta is shape btk\n",
    "    \n",
    "    for step in range(numInference):\n",
    "        predictions = torch.einsum('btk,ijk,btj -> bti', beta, phi, Input)\n",
    "        dTanh = squash_deriv(predictions)\n",
    "        error = Output - squash(predictions)\n",
    "        dBeta = torch.einsum('bti,ijk,btj, btj -> btk', error, phi, dTanh, Input) - sparsePen*sparseDeriv(beta) - derivPen*timeDeriv(beta)\n",
    "        beta += eta2*dBeta\n",
    "        \n",
    "    return(beta)\n",
    "\n",
    "    \n",
    "def learnTransform(Input, Output, phi, beta, eta, batchSize):\n",
    "    \n",
    "    predictions = torch.einsum('btk,ijk,btj -> bti', beta, phi, Input)\n",
    "    error = Output - squash(predictions)\n",
    "    dTanh = squash_deriv(predictions)\n",
    "    dPhi = torch.einsum('bti, btj, btj, btk -> ijk', error, dTanh, Input, beta)\n",
    "    phi += (eta/batchSize)*dPhi\n",
    "    \n",
    "    return(phi, error)\n",
    "    \n",
    "\n",
    "#Traning algo, image sequences with one shape.\n",
    "\n",
    "def TrainMore(dataset, phi, trainSteps, batchSize, sparsePen, derivPen, eta, eta2, numInference, numTransforms):\n",
    "    \n",
    "    #intialize phi\n",
    "    dim = dataset.size()[2]\n",
    "    \n",
    "    #ax = plt.subplot(1,1,1)\n",
    "    #start training\n",
    "    for trial in range(trainSteps):\n",
    "        \n",
    "        data_batch = dataset[np.random.randint(0,dataset.size()[0],batchSize)] #create random batch\n",
    "        Input = data_batch[:,:(dataset.size()[1]-1),:] #will predict next frame from these\n",
    "        Output = data_batch[:,1:,:] #the frames to be predicted\n",
    "\n",
    "        #Find beta, fix, then optimize phi\n",
    "        beta = inferBeta(Input, Output, phi, sparsePen, derivPen, eta2)\n",
    "        phi, error = learnTransform(Input, Output, phi, beta, eta, batchSize)\n",
    "\n",
    "        #renormalize by making transforms have norm 1.\n",
    "        #phi = phi/(torch.abs(phi).max(axis=(0,1),keepdims=True))\n",
    "        phi = (f.normalize(phi.view(dim**2,numTransforms),dim=0)).view(dim,dim,numTransforms)\n",
    "\n",
    "\n",
    "        if trial%10 == 0: #print every 10 steps\n",
    "            normError = torch.norm(error).item()\n",
    "            print('trial: %s ; NormedLoss: %s' % (trial,normError))\n",
    "        else:\n",
    "            print('trial: %s' % trial, end='\\r')\n",
    "#             normError = torch.norm(error).item()\n",
    "#             print('trial: %s ; NormedLoss: %s' % (trial,normError))\n",
    "#     plt.show()\n",
    "    return(phi)\n",
    "    "
   ]
  },
  {
   "cell_type": "code",
   "execution_count": 71,
   "metadata": {},
   "outputs": [
    {
     "ename": "TypeError",
     "evalue": "can't convert CUDA tensor to numpy. Use Tensor.cpu() to copy the tensor to host memory first.",
     "output_type": "error",
     "traceback": [
      "\u001b[1;31m---------------------------------------------------------------------------\u001b[0m",
      "\u001b[1;31mTypeError\u001b[0m                                 Traceback (most recent call last)",
      "\u001b[1;32m<ipython-input-71-e18240bb5394>\u001b[0m in \u001b[0;36m<module>\u001b[1;34m\u001b[0m\n\u001b[0;32m     12\u001b[0m \u001b[1;33m\u001b[0m\u001b[0m\n\u001b[0;32m     13\u001b[0m \u001b[1;31m#Find beta, fix, then optimize phi\u001b[0m\u001b[1;33m\u001b[0m\u001b[1;33m\u001b[0m\u001b[1;33m\u001b[0m\u001b[0m\n\u001b[1;32m---> 14\u001b[1;33m \u001b[0mbeta\u001b[0m \u001b[1;33m=\u001b[0m \u001b[0minferBeta\u001b[0m\u001b[1;33m(\u001b[0m\u001b[0mInput\u001b[0m\u001b[1;33m,\u001b[0m \u001b[0mOutput\u001b[0m\u001b[1;33m,\u001b[0m \u001b[0mphi\u001b[0m\u001b[1;33m,\u001b[0m \u001b[0msparsePen\u001b[0m\u001b[1;33m,\u001b[0m \u001b[0mderivPen\u001b[0m\u001b[1;33m,\u001b[0m \u001b[0meta2\u001b[0m\u001b[1;33m)\u001b[0m\u001b[1;33m\u001b[0m\u001b[1;33m\u001b[0m\u001b[0m\n\u001b[0m\u001b[0;32m     15\u001b[0m \u001b[0mphi\u001b[0m\u001b[1;33m,\u001b[0m \u001b[0merror\u001b[0m \u001b[1;33m=\u001b[0m \u001b[0mlearnTransform\u001b[0m\u001b[1;33m(\u001b[0m\u001b[0mInput\u001b[0m\u001b[1;33m,\u001b[0m \u001b[0mOutput\u001b[0m\u001b[1;33m,\u001b[0m \u001b[0mphi\u001b[0m\u001b[1;33m,\u001b[0m \u001b[0mbeta\u001b[0m\u001b[1;33m,\u001b[0m \u001b[0meta\u001b[0m\u001b[1;33m,\u001b[0m \u001b[0mbatchSize\u001b[0m\u001b[1;33m)\u001b[0m\u001b[1;33m\u001b[0m\u001b[1;33m\u001b[0m\u001b[0m\n\u001b[0;32m     16\u001b[0m \u001b[1;33m\u001b[0m\u001b[0m\n",
      "\u001b[1;32m<ipython-input-67-ebfdeb32fb96>\u001b[0m in \u001b[0;36minferBeta\u001b[1;34m(Input, Output, phi, sparsePen, derivPen, eta2)\u001b[0m\n\u001b[0;32m     61\u001b[0m         \u001b[0mdTanh\u001b[0m \u001b[1;33m=\u001b[0m \u001b[0msquash_deriv\u001b[0m\u001b[1;33m(\u001b[0m\u001b[0mpredictions\u001b[0m\u001b[1;33m)\u001b[0m\u001b[1;33m\u001b[0m\u001b[1;33m\u001b[0m\u001b[0m\n\u001b[0;32m     62\u001b[0m         \u001b[0merror\u001b[0m \u001b[1;33m=\u001b[0m \u001b[0mOutput\u001b[0m \u001b[1;33m-\u001b[0m \u001b[0msquash\u001b[0m\u001b[1;33m(\u001b[0m\u001b[0mpredictions\u001b[0m\u001b[1;33m)\u001b[0m\u001b[1;33m\u001b[0m\u001b[1;33m\u001b[0m\u001b[0m\n\u001b[1;32m---> 63\u001b[1;33m         \u001b[0mdBeta\u001b[0m \u001b[1;33m=\u001b[0m \u001b[0mtorch\u001b[0m\u001b[1;33m.\u001b[0m\u001b[0meinsum\u001b[0m\u001b[1;33m(\u001b[0m\u001b[1;34m'bti,ijk,btj, btj -> btk'\u001b[0m\u001b[1;33m,\u001b[0m \u001b[0merror\u001b[0m\u001b[1;33m,\u001b[0m \u001b[0mphi\u001b[0m\u001b[1;33m,\u001b[0m \u001b[0mdTanh\u001b[0m\u001b[1;33m,\u001b[0m \u001b[0mInput\u001b[0m\u001b[1;33m)\u001b[0m \u001b[1;33m-\u001b[0m \u001b[0msparsePen\u001b[0m\u001b[1;33m*\u001b[0m\u001b[0msparseDeriv\u001b[0m\u001b[1;33m(\u001b[0m\u001b[0mbeta\u001b[0m\u001b[1;33m)\u001b[0m \u001b[1;33m-\u001b[0m \u001b[0mderivPen\u001b[0m\u001b[1;33m*\u001b[0m\u001b[0mtimeDeriv\u001b[0m\u001b[1;33m(\u001b[0m\u001b[0mbeta\u001b[0m\u001b[1;33m)\u001b[0m\u001b[1;33m\u001b[0m\u001b[1;33m\u001b[0m\u001b[0m\n\u001b[0m\u001b[0;32m     64\u001b[0m         \u001b[0mbeta\u001b[0m \u001b[1;33m+=\u001b[0m \u001b[0meta2\u001b[0m\u001b[1;33m*\u001b[0m\u001b[0mdBeta\u001b[0m\u001b[1;33m\u001b[0m\u001b[1;33m\u001b[0m\u001b[0m\n\u001b[0;32m     65\u001b[0m \u001b[1;33m\u001b[0m\u001b[0m\n",
      "\u001b[1;32m<ipython-input-67-ebfdeb32fb96>\u001b[0m in \u001b[0;36msparseDeriv\u001b[1;34m(beta)\u001b[0m\n\u001b[0;32m     33\u001b[0m     \u001b[1;31m#assume beta has shape btk.\u001b[0m\u001b[1;33m\u001b[0m\u001b[1;33m\u001b[0m\u001b[1;33m\u001b[0m\u001b[0m\n\u001b[0;32m     34\u001b[0m \u001b[1;33m\u001b[0m\u001b[0m\n\u001b[1;32m---> 35\u001b[1;33m     \u001b[0mnorm_beta\u001b[0m \u001b[1;33m=\u001b[0m \u001b[0mnp\u001b[0m\u001b[1;33m.\u001b[0m\u001b[0mlinalg\u001b[0m\u001b[1;33m.\u001b[0m\u001b[0mnorm\u001b[0m\u001b[1;33m(\u001b[0m\u001b[0mbeta\u001b[0m\u001b[1;33m,\u001b[0m \u001b[0mord\u001b[0m \u001b[1;33m=\u001b[0m \u001b[1;36m1\u001b[0m\u001b[1;33m,\u001b[0m \u001b[0maxis\u001b[0m\u001b[1;33m=\u001b[0m\u001b[1;36m2\u001b[0m\u001b[1;33m)\u001b[0m \u001b[1;31m#normalize btk, for all batches and time\u001b[0m\u001b[1;33m\u001b[0m\u001b[1;33m\u001b[0m\u001b[0m\n\u001b[0m\u001b[0;32m     36\u001b[0m     \u001b[0mderiv_part1\u001b[0m \u001b[1;33m=\u001b[0m \u001b[0mnorm_beta\u001b[0m\u001b[1;33m/\u001b[0m\u001b[1;33m(\u001b[0m\u001b[0mnorm_beta\u001b[0m\u001b[1;33m**\u001b[0m\u001b[1;36m2\u001b[0m\u001b[1;33m+\u001b[0m\u001b[1;36m1\u001b[0m\u001b[1;33m)\u001b[0m\u001b[1;33m\u001b[0m\u001b[1;33m\u001b[0m\u001b[0m\n\u001b[0;32m     37\u001b[0m     \u001b[0mderiv_part1\u001b[0m \u001b[1;33m=\u001b[0m \u001b[0mderiv_part1\u001b[0m\u001b[1;33m.\u001b[0m\u001b[0munsqueeze\u001b[0m\u001b[1;33m(\u001b[0m\u001b[1;36m2\u001b[0m\u001b[1;33m)\u001b[0m\u001b[1;33m\u001b[0m\u001b[1;33m\u001b[0m\u001b[0m\n",
      "\u001b[1;32m~\\Anaconda3\\lib\\site-packages\\numpy\\linalg\\linalg.py\u001b[0m in \u001b[0;36mnorm\u001b[1;34m(x, ord, axis, keepdims)\u001b[0m\n\u001b[0;32m   2432\u001b[0m \u001b[1;33m\u001b[0m\u001b[0m\n\u001b[0;32m   2433\u001b[0m     \"\"\"\n\u001b[1;32m-> 2434\u001b[1;33m     \u001b[0mx\u001b[0m \u001b[1;33m=\u001b[0m \u001b[0masarray\u001b[0m\u001b[1;33m(\u001b[0m\u001b[0mx\u001b[0m\u001b[1;33m)\u001b[0m\u001b[1;33m\u001b[0m\u001b[1;33m\u001b[0m\u001b[0m\n\u001b[0m\u001b[0;32m   2435\u001b[0m \u001b[1;33m\u001b[0m\u001b[0m\n\u001b[0;32m   2436\u001b[0m     \u001b[1;32mif\u001b[0m \u001b[1;32mnot\u001b[0m \u001b[0missubclass\u001b[0m\u001b[1;33m(\u001b[0m\u001b[0mx\u001b[0m\u001b[1;33m.\u001b[0m\u001b[0mdtype\u001b[0m\u001b[1;33m.\u001b[0m\u001b[0mtype\u001b[0m\u001b[1;33m,\u001b[0m \u001b[1;33m(\u001b[0m\u001b[0minexact\u001b[0m\u001b[1;33m,\u001b[0m \u001b[0mobject_\u001b[0m\u001b[1;33m)\u001b[0m\u001b[1;33m)\u001b[0m\u001b[1;33m:\u001b[0m\u001b[1;33m\u001b[0m\u001b[1;33m\u001b[0m\u001b[0m\n",
      "\u001b[1;32m~\\Anaconda3\\lib\\site-packages\\numpy\\core\\numeric.py\u001b[0m in \u001b[0;36masarray\u001b[1;34m(a, dtype, order)\u001b[0m\n\u001b[0;32m    536\u001b[0m \u001b[1;33m\u001b[0m\u001b[0m\n\u001b[0;32m    537\u001b[0m     \"\"\"\n\u001b[1;32m--> 538\u001b[1;33m     \u001b[1;32mreturn\u001b[0m \u001b[0marray\u001b[0m\u001b[1;33m(\u001b[0m\u001b[0ma\u001b[0m\u001b[1;33m,\u001b[0m \u001b[0mdtype\u001b[0m\u001b[1;33m,\u001b[0m \u001b[0mcopy\u001b[0m\u001b[1;33m=\u001b[0m\u001b[1;32mFalse\u001b[0m\u001b[1;33m,\u001b[0m \u001b[0morder\u001b[0m\u001b[1;33m=\u001b[0m\u001b[0morder\u001b[0m\u001b[1;33m)\u001b[0m\u001b[1;33m\u001b[0m\u001b[1;33m\u001b[0m\u001b[0m\n\u001b[0m\u001b[0;32m    539\u001b[0m \u001b[1;33m\u001b[0m\u001b[0m\n\u001b[0;32m    540\u001b[0m \u001b[1;33m\u001b[0m\u001b[0m\n",
      "\u001b[1;32m~\\Anaconda3\\lib\\site-packages\\torch\\tensor.py\u001b[0m in \u001b[0;36m__array__\u001b[1;34m(self, dtype)\u001b[0m\n\u001b[0;32m    456\u001b[0m     \u001b[1;32mdef\u001b[0m \u001b[0m__array__\u001b[0m\u001b[1;33m(\u001b[0m\u001b[0mself\u001b[0m\u001b[1;33m,\u001b[0m \u001b[0mdtype\u001b[0m\u001b[1;33m=\u001b[0m\u001b[1;32mNone\u001b[0m\u001b[1;33m)\u001b[0m\u001b[1;33m:\u001b[0m\u001b[1;33m\u001b[0m\u001b[1;33m\u001b[0m\u001b[0m\n\u001b[0;32m    457\u001b[0m         \u001b[1;32mif\u001b[0m \u001b[0mdtype\u001b[0m \u001b[1;32mis\u001b[0m \u001b[1;32mNone\u001b[0m\u001b[1;33m:\u001b[0m\u001b[1;33m\u001b[0m\u001b[1;33m\u001b[0m\u001b[0m\n\u001b[1;32m--> 458\u001b[1;33m             \u001b[1;32mreturn\u001b[0m \u001b[0mself\u001b[0m\u001b[1;33m.\u001b[0m\u001b[0mnumpy\u001b[0m\u001b[1;33m(\u001b[0m\u001b[1;33m)\u001b[0m\u001b[1;33m\u001b[0m\u001b[1;33m\u001b[0m\u001b[0m\n\u001b[0m\u001b[0;32m    459\u001b[0m         \u001b[1;32melse\u001b[0m\u001b[1;33m:\u001b[0m\u001b[1;33m\u001b[0m\u001b[1;33m\u001b[0m\u001b[0m\n\u001b[0;32m    460\u001b[0m             \u001b[1;32mreturn\u001b[0m \u001b[0mself\u001b[0m\u001b[1;33m.\u001b[0m\u001b[0mnumpy\u001b[0m\u001b[1;33m(\u001b[0m\u001b[1;33m)\u001b[0m\u001b[1;33m.\u001b[0m\u001b[0mastype\u001b[0m\u001b[1;33m(\u001b[0m\u001b[0mdtype\u001b[0m\u001b[1;33m,\u001b[0m \u001b[0mcopy\u001b[0m\u001b[1;33m=\u001b[0m\u001b[1;32mFalse\u001b[0m\u001b[1;33m)\u001b[0m\u001b[1;33m\u001b[0m\u001b[1;33m\u001b[0m\u001b[0m\n",
      "\u001b[1;31mTypeError\u001b[0m: can't convert CUDA tensor to numpy. Use Tensor.cpu() to copy the tensor to host memory first."
     ]
    }
   ],
   "source": [
    "#Use this to check what SparsePen/derivPen should be. For 16x16, 1/60 and 1/90 for Sparse/Deriv respectively seems\n",
    "#to be a good starting point relative to total batch-wide normedError. Maybe want a little higher\n",
    "\n",
    "data_batch = data[np.random.randint(0,data.size()[0],batchSize)] #create random batch\n",
    "Input = data_batch[:,:(data.size()[1]-1),:] #will predict next frame from these\n",
    "Output = data_batch[:,1:,:] #the frames to be predicted\n",
    "\n",
    "\n",
    "dim = data.size()[2]\n",
    "phi = torch.rand(dim, dim ,numTransforms).cuda()+.0001 #n2 x n2 x 15. added small number to prevent dividing by zero.\n",
    "\n",
    "\n",
    "#Find beta, fix, then optimize phi\n",
    "beta = inferBeta(Input, Output, phi, sparsePen, derivPen, eta2)\n",
    "phi, error = learnTransform(Input, Output, phi, beta, eta, batchSize)\n",
    "\n",
    "#renormalize by making transforms have norm 1.\n",
    "#phi = phi/(torch.abs(phi).max(axis=(0,1),keepdims=True))\n",
    "phi = (f.normalize(phi.view(dim**2,numTransforms),dim=0)).view(dim,dim,numTransforms)\n",
    "\n",
    "timeDiff = beta[:,1:,:] - beta[:,:(beta.size(1)-1),:]\n",
    "tmDiffnorm = torch.norm(timeDiff,dim=1)\n",
    "\n",
    "print('sparse: %s  time: %s  error: %s' % (torch.log(torch.norm(beta)**4 + 1),torch.log(torch.norm(timeDiff)**4 + 1),torch.norm(error)))"
   ]
  },
  {
   "cell_type": "code",
   "execution_count": 38,
   "metadata": {},
   "outputs": [
    {
     "name": "stdout",
     "output_type": "stream",
     "text": [
      "sparse: tensor(30.3649)  time: tensor(31.3601)  error: tensor(270.7589)\n"
     ]
    }
   ],
   "source": [
    "print('sparse: %s  time: %s  error: %s' % (torch.log(torch.norm(beta)**4 + 1),torch.log(torch.norm(timeDiff)**4 + 1),torch.norm(error)))"
   ]
  },
  {
   "cell_type": "code",
   "execution_count": 393,
   "metadata": {},
   "outputs": [],
   "source": [
    "#Traning algo, image sequences with one shape.\n",
    "\n",
    "def Training1(dataset, trainSteps, batchSize, sparsePen, derivPen, eta, eta2, numInference, numTransforms):\n",
    "    \n",
    "    #intialize phi\n",
    "    dim = dataset.size()[2]\n",
    "    phi = torch.rand(dim, dim ,numTransforms).cuda()+.0001 #n2 x n2 x 15. added small number to prevent dividing by zero.\n",
    "    \n",
    "    #ax = plt.subplot(1,1,1)\n",
    "    #start training\n",
    "    eta_phase2 = eta*.5\n",
    "#     sparsePen_phase2 = sparsePen*.8\n",
    "#     derivPen_phase2 = derivPen*.8\n",
    "    for trial in range(trainSteps): #iteratively relax learning rate\n",
    "        if trial <= trainSteps/3:\n",
    "            pass\n",
    "        else:\n",
    "            eta= eta_phase2\n",
    "#             sparsePen = sparsePen_phase2\n",
    "#             derivPen = derivPen_phase2\n",
    "#above code also in case want to intitally force algo to choose sparse, time-consistent soltuions to get good \"initializations\"\n",
    "        \n",
    "        data_batch = dataset[np.random.randint(0,dataset.size()[0],batchSize)] #create random batch\n",
    "        Input = data_batch[:,:(dataset.size()[1]-1),:] #will predict next frame from these\n",
    "        Output = data_batch[:,1:,:] #the frames to be predicted\n",
    "\n",
    "        #Find beta, fix, then optimize phi\n",
    "        beta = inferBeta(Input, Output, phi, sparsePen, derivPen, eta2)\n",
    "        phi, error = learnTransform(Input, Output, phi, beta, eta, batchSize)\n",
    "\n",
    "        #renormalize by making transforms have norm 1.\n",
    "        #phi = phi/(torch.abs(phi).max(axis=(0,1),keepdims=True))\n",
    "        phi = (f.normalize(phi.view(dim**2,numTransforms),dim=0)).view(dim,dim,numTransforms)\n",
    "\n",
    "\n",
    "        if trial%10 == 0: #print every 10 steps\n",
    "            normError = torch.norm(error).item()\n",
    "            print('trial: %s ; NormedLoss: %s' % (trial,normError))\n",
    "        else:\n",
    "            print('trial: %s' % trial, end='\\r')\n",
    "#         normError = torch.norm(error).item()\n",
    "#         print('trial: %s ; NormedLoss: %s' % (trial,normError))\n",
    "#     plt.show()\n",
    "    return(phi)\n",
    "    "
   ]
  },
  {
   "cell_type": "code",
   "execution_count": 452,
   "metadata": {
    "scrolled": true
   },
   "outputs": [
    {
     "name": "stdout",
     "output_type": "stream",
     "text": [
      "trial: 0 ; NormedLoss: 274.4008483886719\n",
      "trial: 10 ; NormedLoss: 50.93622589111328\n",
      "trial: 20 ; NormedLoss: 40.29944610595703\n",
      "trial: 30 ; NormedLoss: 40.18239974975586\n",
      "trial: 40 ; NormedLoss: 45.08989334106445\n",
      "trial: 50 ; NormedLoss: 37.41803741455078\n",
      "trial: 60 ; NormedLoss: 39.565189361572266\n",
      "trial: 70 ; NormedLoss: 42.96530532836914\n",
      "trial: 80 ; NormedLoss: 39.84351348876953\n",
      "trial: 90 ; NormedLoss: 43.035560607910156\n",
      "trial: 100 ; NormedLoss: 35.66799545288086\n",
      "trial: 110 ; NormedLoss: 41.138126373291016\n",
      "trial: 120 ; NormedLoss: 42.17800521850586\n",
      "trial: 130 ; NormedLoss: 39.39528274536133\n",
      "trial: 140 ; NormedLoss: 39.04322814941406\n",
      "trial: 150 ; NormedLoss: 44.38808059692383\n",
      "trial: 160 ; NormedLoss: 40.47140884399414\n",
      "trial: 170 ; NormedLoss: 39.61886215209961\n",
      "trial: 180 ; NormedLoss: 37.23099136352539\n",
      "trial: 190 ; NormedLoss: 39.133792877197266\n",
      "trial: 200 ; NormedLoss: 38.528865814208984\n",
      "trial: 210 ; NormedLoss: 36.6799201965332\n",
      "trial: 220 ; NormedLoss: 37.75577926635742\n",
      "trial: 230 ; NormedLoss: 34.48544692993164\n",
      "trial: 240 ; NormedLoss: 35.66315460205078\n",
      "trial: 250 ; NormedLoss: 34.46381378173828\n",
      "trial: 260 ; NormedLoss: 38.499855041503906\n",
      "trial: 270 ; NormedLoss: 32.345924377441406\n",
      "trial: 280 ; NormedLoss: 33.23945999145508\n",
      "trial: 290 ; NormedLoss: 39.491214752197266\n",
      "trial: 300 ; NormedLoss: 37.32756805419922\n",
      "trial: 310 ; NormedLoss: 41.99045181274414\n",
      "trial: 320 ; NormedLoss: 38.386375427246094\n",
      "trial: 330 ; NormedLoss: 37.546382904052734\n",
      "trial: 340 ; NormedLoss: 39.990318298339844\n",
      "trial: 350 ; NormedLoss: 36.914249420166016\n",
      "trial: 360 ; NormedLoss: 34.196632385253906\n",
      "trial: 370 ; NormedLoss: 39.150352478027344\n",
      "trial: 380 ; NormedLoss: 39.53786087036133\n",
      "trial: 390 ; NormedLoss: 40.24224853515625\n",
      "trial: 400 ; NormedLoss: 37.501625061035156\n",
      "trial: 410 ; NormedLoss: 34.6629638671875\n",
      "trial: 420 ; NormedLoss: 40.38139724731445\n",
      "trial: 430 ; NormedLoss: 38.30599594116211\n",
      "trial: 440 ; NormedLoss: 36.61812210083008\n",
      "trial: 450 ; NormedLoss: 38.08649826049805\n",
      "trial: 460 ; NormedLoss: 36.849552154541016\n",
      "trial: 470 ; NormedLoss: 37.454612731933594\n",
      "trial: 480 ; NormedLoss: 37.800758361816406\n",
      "trial: 490 ; NormedLoss: 37.72712707519531\n",
      "trial: 500 ; NormedLoss: 35.06343078613281\n",
      "trial: 510 ; NormedLoss: 38.49875259399414\n",
      "trial: 520 ; NormedLoss: 34.28157424926758\n",
      "trial: 530 ; NormedLoss: 35.31499481201172\n",
      "trial: 540 ; NormedLoss: 38.1264533996582\n",
      "trial: 550 ; NormedLoss: 36.2010498046875\n",
      "trial: 560 ; NormedLoss: 34.15685272216797\n",
      "trial: 570 ; NormedLoss: 35.963314056396484\n",
      "trial: 580 ; NormedLoss: 39.268585205078125\n",
      "trial: 590 ; NormedLoss: 38.3284797668457\n",
      "trial: 600 ; NormedLoss: 37.588253021240234\n",
      "trial: 610 ; NormedLoss: 35.30207443237305\n",
      "trial: 620 ; NormedLoss: 36.454959869384766\n",
      "trial: 630 ; NormedLoss: 37.539337158203125\n",
      "trial: 640 ; NormedLoss: 38.32732009887695\n",
      "trial: 650 ; NormedLoss: 36.0659065246582\n",
      "trial: 660 ; NormedLoss: 38.47090530395508\n",
      "trial: 670 ; NormedLoss: 38.66782760620117\n",
      "trial: 680 ; NormedLoss: 36.71428298950195\n",
      "trial: 690 ; NormedLoss: 35.63775634765625\n",
      "trial: 700 ; NormedLoss: 38.858604431152344\n",
      "trial: 710 ; NormedLoss: 37.34358596801758\n",
      "trial: 720 ; NormedLoss: 37.63033676147461\n",
      "trial: 730 ; NormedLoss: 39.556541442871094\n",
      "trial: 740 ; NormedLoss: 36.995296478271484\n",
      "trial: 750 ; NormedLoss: 38.605934143066406\n",
      "trial: 760 ; NormedLoss: 38.03947448730469\n",
      "trial: 770 ; NormedLoss: 40.62059783935547\n",
      "trial: 780 ; NormedLoss: 37.68778610229492\n",
      "trial: 790 ; NormedLoss: 35.80524444580078\n",
      "trial: 800 ; NormedLoss: 36.235809326171875\n",
      "trial: 810 ; NormedLoss: 36.41763687133789\n",
      "trial: 820 ; NormedLoss: 37.2739143371582\n",
      "trial: 830 ; NormedLoss: 37.8814697265625\n",
      "trial: 840 ; NormedLoss: 36.168128967285156\n",
      "trial: 850 ; NormedLoss: 38.711856842041016\n",
      "trial: 860 ; NormedLoss: 37.899131774902344\n",
      "trial: 870 ; NormedLoss: 36.69436264038086\n",
      "trial: 880 ; NormedLoss: 36.529300689697266\n",
      "trial: 890 ; NormedLoss: 36.070152282714844\n",
      "trial: 900 ; NormedLoss: 36.22097396850586\n",
      "trial: 910 ; NormedLoss: 39.13889694213867\n",
      "trial: 920 ; NormedLoss: 37.2728385925293\n",
      "trial: 930 ; NormedLoss: 38.08523941040039\n",
      "trial: 940 ; NormedLoss: 35.60021209716797\n",
      "trial: 950 ; NormedLoss: 35.20088577270508\n",
      "trial: 960 ; NormedLoss: 38.638572692871094\n",
      "trial: 970 ; NormedLoss: 37.076786041259766\n",
      "trial: 980 ; NormedLoss: 35.73134994506836\n",
      "trial: 990 ; NormedLoss: 39.49964141845703\n",
      "trial: 999\r"
     ]
    }
   ],
   "source": [
    "learnedPhi8 = Training1(data, trainSteps, batchSize, sparsePen, derivPen, eta, eta2, numInference, numTransforms)"
   ]
  },
  {
   "cell_type": "code",
   "execution_count": 76,
   "metadata": {},
   "outputs": [
    {
     "ename": "NameError",
     "evalue": "name 'learnedPhi8' is not defined",
     "output_type": "error",
     "traceback": [
      "\u001b[1;31m---------------------------------------------------------------------------\u001b[0m",
      "\u001b[1;31mNameError\u001b[0m                                 Traceback (most recent call last)",
      "\u001b[1;32m<ipython-input-76-480c8d4f4282>\u001b[0m in \u001b[0;36m<module>\u001b[1;34m\u001b[0m\n\u001b[1;32m----> 1\u001b[1;33m \u001b[0mlearnedPhi8NP\u001b[0m \u001b[1;33m=\u001b[0m \u001b[0mtorch\u001b[0m\u001b[1;33m.\u001b[0m\u001b[0mTensor\u001b[0m\u001b[1;33m.\u001b[0m\u001b[0mnumpy\u001b[0m\u001b[1;33m(\u001b[0m\u001b[0mtorch\u001b[0m\u001b[1;33m.\u001b[0m\u001b[0mTensor\u001b[0m\u001b[1;33m.\u001b[0m\u001b[0mcpu\u001b[0m\u001b[1;33m(\u001b[0m\u001b[0mlearnedPhi8\u001b[0m\u001b[1;33m)\u001b[0m\u001b[1;33m)\u001b[0m\u001b[1;33m\u001b[0m\u001b[1;33m\u001b[0m\u001b[0m\n\u001b[0m",
      "\u001b[1;31mNameError\u001b[0m: name 'learnedPhi8' is not defined"
     ]
    }
   ],
   "source": [
    "learnedPhi8NP = torch.Tensor.numpy(torch.Tensor.cpu(learnedPhi8))"
   ]
  },
  {
   "cell_type": "code",
   "execution_count": 541,
   "metadata": {},
   "outputs": [],
   "source": [
    "np.save(\"Trial2_learnedPhi8.npy\", learnedPhi8NP)"
   ]
  },
  {
   "cell_type": "code",
   "execution_count": 77,
   "metadata": {},
   "outputs": [],
   "source": [
    "learnPhi8 = np.load(\"Trial2_learnedPhi8.npy\")"
   ]
  },
  {
   "cell_type": "code",
   "execution_count": 453,
   "metadata": {},
   "outputs": [],
   "source": [
    "#Now test learned Phi on dataset\n",
    "data_batch = data[np.random.randint(0,data.shape[0],batchSize)] #create random batch\n",
    "Input = data_batch[:,:(data.shape[1]-1),:] #will predict next frame from these\n",
    "Output = data_batch[:,1:,:] #the frames to be predicted\n",
    "dim = data.size()[2]\n",
    "beta = inferBeta(Input, Output, learnedPhi8, sparsePen, derivPen, eta2)\n",
    "predictions = torch.einsum('btk,ijk,btj -> bti', beta, learnedPhi8, Input)\n",
    "predictionsNP = torch.Tensor.numpy(torch.Tensor.cpu(predictions))\n",
    "predictionsNP[predictionsNP < 0] = 0\n",
    "OutputNP = torch.Tensor.numpy(torch.Tensor.cpu(Output))"
   ]
  },
  {
   "cell_type": "code",
   "execution_count": 455,
   "metadata": {},
   "outputs": [
    {
     "data": {
      "image/png": "[encoded data removed]",
      "text/plain": [
       "<Figure size 1440x720 with 10 Axes>"
      ]
     },
     "metadata": {
      "needs_background": "light"
     },
     "output_type": "display_data"
    }
   ],
   "source": [
    "#compare actual to predicted\n",
    "data_number =17\n",
    "fig = plt.figure(figsize=(20,10)) #image sequence from dataset\n",
    "for i in range(10):\n",
    "    fig.add_subplot(2,5,i+1)\n",
    "    if i <= 4:\n",
    "        plt.imshow(OutputNP[data_number,i].reshape((imgDim,imgDim)),cmap = \"Greys\")\n",
    "    else:\n",
    "        plt.imshow(predictionsNP[data_number,i-5].reshape((imgDim,imgDim)),cmap = \"Greys\")"
   ]
  },
  {
   "cell_type": "code",
   "execution_count": 456,
   "metadata": {},
   "outputs": [
    {
     "data": {
      "image/png": "[encoded data removed]",
      "text/plain": [
       "<Figure size 1440x1440 with 96 Axes>"
      ]
     },
     "metadata": {
      "needs_background": "light"
     },
     "output_type": "display_data"
    }
   ],
   "source": [
    "testdata = torch.zeros(numTransforms,6,data.size()[2])\n",
    "testdata[:,0,:] = data[17,0]\n",
    "for i in range(numTransforms):\n",
    "    for j in range(5):\n",
    "        testdata[i,j+1] = torch.einsum('ij,j -> i', learnedPhi8[:,:,i],testdata[i,j])\n",
    "    \n",
    "testdataNP = torch.Tensor.numpy(torch.Tensor.cpu(testdata))\n",
    "testdataNP = testdataNP.reshape((testdataNP.shape[0],testdataNP.shape[1],imgDim,imgDim))\n",
    "fig = plt.figure(figsize=(20,20)) #image sequence from dataset\n",
    "for i in range(6*numTransforms):\n",
    "        fig.add_subplot(numTransforms,6,i+1)\n",
    "        plt.imshow(testdataNP[i//6,i%6],cmap = \"Greys\")"
   ]
  },
  {
   "cell_type": "code",
   "execution_count": 450,
   "metadata": {},
   "outputs": [
    {
     "data": {
      "image/png": "[encoded data removed]",
      "text/plain": [
       "<Figure size 1440x1440 with 6 Axes>"
      ]
     },
     "metadata": {
      "needs_background": "light"
     },
     "output_type": "display_data"
    }
   ],
   "source": [
    "phi_index = 7\n",
    "testdata = torch.zeros_like(data[17,0:6])\n",
    "testdata[0] = data[17,0]\n",
    "for i in range(5):\n",
    "    testdata[i+1] = torch.einsum('ij,j -> i', learnedPhi5[:,:,phi_index],testdata[i])\n",
    "    \n",
    "testdataNP = torch.Tensor.numpy(torch.Tensor.cpu(testdata))\n",
    "testdataNP = testdataNP.reshape((testdataNP.shape[0],imgDim,imgDim))\n",
    "fig = plt.figure(figsize=(20,20)) #image sequence from dataset\n",
    "for i in range(6):\n",
    "        fig.add_subplot(1,6,i+1)\n",
    "        plt.imshow(testdataNP[i],cmap = \"Greys\")"
   ]
  },
  {
   "cell_type": "code",
   "execution_count": 535,
   "metadata": {},
   "outputs": [
    {
     "data": {
      "image/png": "[encoded data removed]",
      "text/plain": [
       "<Figure size 1440x1440 with 6 Axes>"
      ]
     },
     "metadata": {
      "needs_background": "light"
     },
     "output_type": "display_data"
    }
   ],
   "source": [
    "fig = plt.figure(figsize=(20,20)) #image sequence from dataset\n",
    "for i in range(6):\n",
    "        fig.add_subplot(1,6,i+1)\n",
    "        plt.imshow(Input2NP[i],cmap = \"Greys\")"
   ]
  },
  {
   "cell_type": "code",
   "execution_count": 536,
   "metadata": {},
   "outputs": [
    {
     "data": {
      "image/png": "[encoded data removed]",
      "text/plain": [
       "<Figure size 1440x1440 with 6 Axes>"
      ]
     },
     "metadata": {
      "needs_background": "light"
     },
     "output_type": "display_data"
    }
   ],
   "source": [
    "fig = plt.figure(figsize=(20,20)) #image sequence from dataset\n",
    "for i in range(6):\n",
    "        fig.add_subplot(1,6,i+1)\n",
    "        plt.imshow(testImgNP[0,i],cmap = \"Greys\")"
   ]
  },
  {
   "cell_type": "code",
   "execution_count": 17,
   "metadata": {},
   "outputs": [],
   "source": [
    "# def InferRadius2(localimg, center, Output, radius2, phi, beta, eta3, epsilon, attStep, movie_length):\n",
    "    \n",
    "#     for step in range(attStep):\n",
    "    \n",
    "#         localimg = localImage(Input2, movie_length, dim, center, radius2, epsilon).view((center.size()[2],movie_length, Input2.size()[1]**2)) #calculate localized images and reshape\n",
    "        \n",
    "#         predictions = torch.einsum('tk,ijk,ktj -> ti', beta, phi, localimg)\n",
    "#         error = Output - squash(predictions)\n",
    "#         dTanh = squash_deriv(predictions)\n",
    "#         ParDeriv = normalMatrix(movie_length, dim, center, radius2, epsilon).view(center.size()[2],movie_length, Input2.size()[1]**2)\n",
    "#         #ParDeriv: each entry of matrix, reshaped as vector, is derivative of localized image wrt radius2\n",
    "#         dR = torch.einsum('ti, tk, ijk, tj, ktj -> tk', error, beta, phi, dTanh, ParDeriv)\n",
    "#         radius2 += eta3*dR\n",
    "                                                                                                                      \n",
    "                                                                                                                \n",
    "#     return(radius2)      \n",
    "\n",
    "# def InferCenter(Input2, center, Output, radius2, phi, beta, eta4, epsilon, attStep, movie_length):\n",
    "    \n",
    "#     for step in range(attStep):\n",
    "    \n",
    "#         localimg = localImage(Input2, movie_length, dim, center, radius2, epsilon).view((center.size()[2],movie_length, Input2.size()[1]**2)) #calculate localized images and reshape\n",
    "        \n",
    "#         predictions = torch.einsum('tk,ijk,ktj -> ti', beta, phi, localimg)\n",
    "#         error = Output - squash(predictions)\n",
    "#         dTanh = squash_deriv(predictions)\n",
    "#         centerPD = center_ParDeriv(movie_length, dim, center, radius2, epsilon).view(2,center.size()[2],movie_length, Input2.size()[1]**2)\n",
    "#         #ParDeriv: each entry of matrix, reshaped as vector, is derivative of localized image wrt radius2\n",
    "#         dC = torch.einsum('ti, tk, ijk, tj, cktj -> ctk', error, beta, phi, dTanh, centerPD)\n",
    "#         center += eta4*dC\n",
    "                                                                                                                      \n",
    "                                                                                                                \n",
    "#     return(center)        "
   ]
  },
  {
   "cell_type": "code",
   "execution_count": 21,
   "metadata": {},
   "outputs": [],
   "source": [
    "# def InferLocal2(movie_seq, phi, sparsePen, derivPen, eta2, eta3, eta4, betaStep, attStep, numInference): \n",
    "#     #now want to infer beta, center, and radii for a single movie sequence\n",
    "#     #***RADII ARE SQUARED, to make computing the derivative easier***\n",
    "#     #assume movie sequence is shape txn2, where t is length (movie_length) and n2 is product of dimensions of 2d image\n",
    "    \n",
    "#     dim = int(np.sqrt(movie_seq.size()[1]))\n",
    "#     Input = movie_seq[:(movie_seq.size()[0]-1)]\n",
    "#     Output = movie_seq[1:]\n",
    "#     Input2 = Input.view(Input.size()[0],dim,dim) #just reshape to make region of interest indices more natural\n",
    "#     movie_length = Input2.size()[0]\n",
    "    \n",
    "#     beta = torch.zeros(Input2.size()[0],phi.size()[2]) #initialize beta at 0. beta is shape tk. movie_seq first dim is t\n",
    "#     center = (dim/2)*torch.ones(2,movie_length,phi.size()[2]).cuda() #shape 2tk (2 since center is 2-vector). initialize centers at center of image. each center is 2-vector\n",
    "#     radius2 = ((dim/2)**2)*torch.ones(movie_length,phi.size()[2]).cuda() # shape tk.initialize radius2 at r^2, so start off region of interest as entire image\n",
    "    \n",
    "#     for bigStep in range(numInference):\n",
    "#         beta = InferBeta2(Input2, center, Output, radius2, phi ,beta, eta2, epsilon, betaStep, movie_length)\n",
    "#         radius2 = InferRadius2(Input2, center, Output, radius2, phi, beta, eta3, epsilon, attStep, movie_length)\n",
    "#         center = InferCenter(Input2, center, Output, radius2, phi, beta, eta4, epsilon, attStep, movie_length)\n",
    "#         print(bigStep, end='\\r', flush=True)\n",
    "    \n",
    "#     finalImg = localImage(Input2, movie_length, dim, center, radius2, epsilon).view(center.size()[2],movie_length, Input.size()[1])\n",
    "#     final_predictions = torch.einsum('tk,ijk,ktj -> ti', beta, phi, finalImg)\n",
    "#     final_predictionsNP = torch.Tensor.numpy(final_predictions)\n",
    "    \n",
    "#     fig = plt.figure(figsize = (20,6)) #plot the figures, top is ground truth, bottom is predictions\n",
    "#     for i in range(movie_length):\n",
    "#         for j in range(2):\n",
    "#             fig.add_subplot(2,movie_length,movie_length*j+i+1)\n",
    "#             if j == 0:\n",
    "#                 plt.imshow(Output[i].reshape((dim,dim)),cmap = \"Greys\")\n",
    "#             else: \n",
    "#                 plt.imshow(final_predictions[i].reshape((dim,dim)),cmap=\"Greys\")\n",
    "    \n",
    "#     return((beta,radius2,center))\n"
   ]
  },
  {
   "cell_type": "code",
   "execution_count": 72,
   "metadata": {},
   "outputs": [],
   "source": [
    "def localImage(Input2, movie_length, dim, center, radius2, epsilon):\n",
    "    local_matrix = torch.zeros(center.size()[2], movie_length, dim,dim).cuda() #shape is ktdd, where k is number of transforms, t is time, d is dim of image\n",
    "    \n",
    "    for k in range(center.size()[2]):\n",
    "        for t in range(movie_length):\n",
    "            for i in range(dim):\n",
    "                for j in range(dim):\n",
    "                    local_matrix[k,t,i,j] = (torch.norm(torch.FloatTensor([i,j]).cuda()-center[:,t,k])**2)/radius2[t,k]\n",
    "    local_matrix[local_matrix <= 1+ epsilon] = 1\n",
    "    local_matrix[local_matrix > 1 + epsilon] = 0\n",
    "    \n",
    "    LocalInput2 = local_matrix*Input2\n",
    "    \n",
    "    return(LocalInput2)\n",
    "\n",
    "def InferNbd(Input2, center, Output, radius2, phi, beta, eta3, eta4, epsilon, attStep, movie_length, dim):\n",
    "    for step in range(attStep):\n",
    "        localimg = localImage(Input2, movie_length, dim, center, radius2, epsilon).reshape((center.size()[2],movie_length, Input2.size()[1]**2)) #calculate localized images and reshape\n",
    "        \n",
    "        predictions = torch.einsum('tk,ijk,ktj -> ti', beta, phi, localimg)\n",
    "        error = Output - squash(predictions)\n",
    "        dTanh = squash_deriv(predictions)\n",
    "        normal_matrix = normalMatrix(movie_length,dim,center,radius2,epsilon)\n",
    "        distance_pd = torch.zeros((2,center.size()[2], movie_length, dim, dim)).cuda() #shape 2ktdd\n",
    "    \n",
    "        for k in range(distance_pd.size()[0]):\n",
    "            for t in range(movie_length):\n",
    "                for i in range(dim):\n",
    "                    for j in range(dim):\n",
    "                            distance_pd[:,k,t,i,j] = 2*(torch.FloatTensor([i,j]).cuda()-center[:,t,k])\n",
    "\n",
    "        centerPD = (distance_pd*normal_matrix.unsqueeze(0)).view(2,center.size()[2],movie_length, Input2.size()[1]**2)\n",
    "        ParDeriv = normal_matrix.view(center.size()[2],movie_length, Input2.size()[1]**2) #radius partial deriv\n",
    "        \n",
    "        \n",
    "        dR = torch.einsum('ti, tk, ijk, tj, ktj -> tk', error, beta, phi, dTanh, ParDeriv)\n",
    "        radius2 += eta3*dR\n",
    "        dC = torch.einsum('ti, tk, ijk, tj, cktj -> ctk', error, beta, phi, dTanh, centerPD)\n",
    "        center += eta4*dC\n",
    "    return(radius2,center)\n",
    "\n",
    "def InferBeta2(Input2, center, Output, radius2, phi ,beta, eta, epsilon, nbdStep, movie_length, dim):\n",
    "    \n",
    "    for step in range(betaStep):\n",
    "        \n",
    "        localimg = localImage(Input2, Input2.size()[0], dim, center, radius2, epsilon).view(center.size()[2],movie_length, Input2.size()[1]**2) #calculate localized images and reshape\n",
    "        \n",
    "        \n",
    "        predictions = torch.einsum('tk,ijk,ktj -> ti', beta, phi, localimg)\n",
    "        error = Output - squash(predictions)\n",
    "        dTanh = squash_deriv(predictions)\n",
    "        dBeta = torch.einsum('ti,ijk, tj, ktj -> tk', error, phi, dTanh, localimg) - sparsePen*sparseDeriv(beta.unsqueeze(1))[0,:,:] - derivPen*timeDeriv(beta.unsqueeze(1))[0,:,:]\n",
    "        #just a bit of reshaping magic above to make the functions work, since sparse/derivPen made for data with extra batch dim\n",
    "        beta += eta2*dBeta\n",
    "    \n",
    "    return(beta)\n",
    "\n",
    "def InferLocal(movie_seq, phi, sparsePen, derivPen, eta2, eta3, eta4, betaStep, attStep, numInf2): \n",
    "    #now want to infer beta, center, and radii for a single movie sequence\n",
    "    #***RADII ARE SQUARED, to make computing the derivative easier***\n",
    "    #assume movie sequence is shape txn2, where t is length (movie_length) and n2 is product of dimensions of 2d image\n",
    "    \n",
    "    dim = int(np.sqrt(movie_seq.size()[1]))\n",
    "    Input = movie_seq[:(movie_seq.size()[0]-1)]\n",
    "    Output = movie_seq[1:]\n",
    "    Input2 = Input.view(Input.size()[0],dim,dim) #just reshape to make region of interest indices more natural\n",
    "    movie_length = Input2.size()[0]\n",
    "    \n",
    "    beta = torch.zeros(Input2.size()[0],phi.size()[2]) #initialize beta at 0. beta is shape tk. movie_seq first dim is t\n",
    "    center = (dim/2)*torch.ones(2,movie_length,phi.size()[2]).cuda() #shape 2tk (2 since center is 2-vector). initialize centers at center of image. each center is 2-vector\n",
    "    radius2 = ((dim/2)**2)*torch.ones(movie_length,phi.size()[2]).cuda() # shape tk.initialize radius2 at r^2, so start off region of interest as entire image\n",
    "    \n",
    "    for bigStep in range(numInf2):\n",
    "        beta = InferBeta2(Input2, center, Output, radius2, phi ,beta, eta2, epsilon, betaStep, movie_length, dim)\n",
    "        radius2, center  = InferNbd(Input2, center, Output, radius2, phi, beta, eta3, eta4, epsilon, attStep, movie_length,dim)\n",
    "        print(bigStep, end='\\r', flush=True)\n",
    "    \n",
    "    finalImg = localImage(Input2, movie_length, dim, center, radius2, epsilon).view(center.size()[2],movie_length, Input.size()[1])\n",
    "    final_predictions = torch.einsum('tk,ijk,ktj -> ti', beta, phi, finalImg)\n",
    "    final_predictionsNP = torch.Tensor.numpy(final_predictions)\n",
    "    \n",
    "    fig = plt.figure(figsize = (20,6)) #plot the figures, top is ground truth, bottom is predictions\n",
    "    for i in range(movie_length):\n",
    "        for j in range(2):\n",
    "            fig.add_subplot(2,movie_length,movie_length*j+i+1)\n",
    "            if j == 0:\n",
    "                plt.imshow(Output[i].reshape((dim,dim)),cmap = \"Greys\")\n",
    "            else: \n",
    "                plt.imshow(final_predictions[i].reshape((dim,dim)),cmap=\"Greys\")\n",
    "    \n",
    "    return((beta,radius2,center))"
   ]
  },
  {
   "cell_type": "code",
   "execution_count": 22,
   "metadata": {},
   "outputs": [
    {
     "ename": "NameError",
     "evalue": "name 'test' is not defined",
     "output_type": "error",
     "traceback": [
      "\u001b[1;31m---------------------------------------------------------------------------\u001b[0m",
      "\u001b[1;31mNameError\u001b[0m                                 Traceback (most recent call last)",
      "\u001b[1;32m<ipython-input-22-011c277d1b3c>\u001b[0m in \u001b[0;36m<module>\u001b[1;34m\u001b[0m\n\u001b[1;32m----> 1\u001b[1;33m \u001b[0mtestrun\u001b[0m \u001b[1;33m=\u001b[0m \u001b[0mInferLocal\u001b[0m\u001b[1;33m(\u001b[0m\u001b[0mtest\u001b[0m\u001b[1;33m[\u001b[0m\u001b[1;36m0\u001b[0m\u001b[1;33m]\u001b[0m\u001b[1;33m,\u001b[0m \u001b[0mlearnedPhi8\u001b[0m\u001b[1;33m,\u001b[0m \u001b[0msparsePen\u001b[0m\u001b[1;33m,\u001b[0m \u001b[0mderivPen\u001b[0m\u001b[1;33m,\u001b[0m \u001b[0meta2\u001b[0m\u001b[1;33m,\u001b[0m \u001b[0meta3\u001b[0m\u001b[1;33m,\u001b[0m \u001b[0meta4\u001b[0m\u001b[1;33m,\u001b[0m \u001b[0mbetaStep\u001b[0m\u001b[1;33m,\u001b[0m \u001b[0mattStep\u001b[0m\u001b[1;33m,\u001b[0m \u001b[0mnumInf2\u001b[0m\u001b[1;33m)\u001b[0m\u001b[1;33m\u001b[0m\u001b[1;33m\u001b[0m\u001b[0m\n\u001b[0m",
      "\u001b[1;31mNameError\u001b[0m: name 'test' is not defined"
     ]
    }
   ],
   "source": [
    "testrun = InferLocal(test[0], learnedPhi8, sparsePen, derivPen, eta2, eta3, eta4, betaStep, attStep, numInf2)"
   ]
  },
  {
   "cell_type": "code",
   "execution_count": null,
   "metadata": {},
   "outputs": [],
   "source": [
    "# def InferRadius2NP(Input2, center, Output, radius2, phi, beta, eta3, epsilon, attStep, movie_length, dim):\n",
    "    \n",
    "#     for step in range(attStep):\n",
    "    \n",
    "#         localimg = localImage(Input2, movie_length, dim, center, radius2, epsilon).reshape((center.shape[2],movie_length, Input2.shape[1]**2)) #calculate localized images and reshape\n",
    "        \n",
    "#         predictions = np.einsum('tk,ijk,ktj -> ti', beta, phi, localimg, optimize=True)\n",
    "#         error = Output - squashNP(predictions)\n",
    "#         dTanh = squash_derivNP(predictions)\n",
    "#         ParDeriv = np.multiply(normalMatrixNP(movie_length, dim, center, radius2, epsilon), Input2).reshape((center.shape[2],movie_length, Input2.shape[1]**2))\n",
    "#         #ParDeriv: each entry of matrix, reshaped as vector, is derivative of localized image wrt radius2\n",
    "#         dR = np.einsum('ti, tk, ijk, tj, ktj -> tk', error, beta, phi, dTanh, ParDeriv, optimize=True)\n",
    "#         radius2 += eta3*dR\n",
    "                                                                                                                      \n",
    "                                                                                                                \n",
    "#     return(radius2)      \n",
    "\n",
    "# def InferCenterNP(Input2, center, Output, radius2, phi, beta, eta4, epsilon, attStep, movie_length, dim):\n",
    "    \n",
    "#     for step in range(attStep):\n",
    "    \n",
    "#         localimg = localImage(Input2, movie_length, dim, center, radius2, epsilon).reshape((center.shape[2],movie_length, Input2.shape[1]**2)) #calculate localized images and reshape\n",
    "        \n",
    "#         predictions = np.einsum('tk,ijk,ktj -> ti', beta, phi, localimg, optimize=True)\n",
    "#         error = Output - squashNP(predictions)\n",
    "#         dTanh = squash_derivNP(predictions)\n",
    "#         centerPD = center_ParDeriv(movie_length, dim, center, radius2, epsilon).reshape((2,center.shape[2],movie_length, Input2.shape[1]**2))\n",
    "#         #ParDeriv: each entry of matrix, reshaped as vector, is derivative of localized image wrt radius2\n",
    "#         dC = np.einsum('ti, tk, ijk, cktj -> ctk', error, beta, phi, centerPD, optimize=True)\n",
    "#         center += eta4*dC\n",
    "                                                                                                                      \n",
    "                                                                                                                \n",
    "#     return(center)        "
   ]
  },
  {
   "cell_type": "code",
   "execution_count": 730,
   "metadata": {},
   "outputs": [],
   "source": [
    "# dim = int(np.sqrt(movie_seq.shape[1]))\n",
    "# Input = movie_seq[:(movie_seq.shape[0]-1)]\n",
    "# Output = movie_seq[1:]\n",
    "# Input2 = Input.reshape((Input.shape[0],dim,dim)) #just reshape to make region of interest indices more natural\n",
    "# movie_length = Input2.shape[0]\n",
    "\n",
    "# beta = np.zeros((Input2.shape[0],phi.shape[2])) #initialize beta at 0. beta is shape tk. movie_seq first dim is t\n",
    "# center = (dim/2)*np.ones((2,movie_length,phi.shape[2])) #shape 2tk (2 since center is 2-vector). initialize centers at center of image. each center is 2-vector\n",
    "# center = center.astype(float)\n",
    "# radius2 = ((dim/2+1)**2)*np.ones((movie_length,phi.shape[2])) # shape tk.initialize radius2 at 17^2, so start off region of interest as entire image\n",
    "# ratius2 = radius2.astype(float)\n",
    "# phi = learnedPhi8NP"
   ]
  },
  {
   "cell_type": "code",
   "execution_count": 733,
   "metadata": {},
   "outputs": [],
   "source": [
    "# def InferLocal2NP(movie_seq, phi, sparsePen, derivPen, eta2, eta3, eta4, betaStep, attStep, numInference): \n",
    "#     #now want to infer beta, center, and radii for a single movie sequence\n",
    "#     #***RADII ARE SQUARED, to make computing the derivative easier***\n",
    "#     #assume movie sequence is shape txn2, where t is length (movie_length) and n2 is product of dimensions of 2d image\n",
    "    \n",
    "#     dim = int(np.sqrt(movie_seq.shape[1]))\n",
    "#     Input = movie_seq[:(movie_seq.shape[0]-1)]\n",
    "#     Output = movie_seq[1:]\n",
    "#     Input2 = Input.reshape((Input.shape[0],dim,dim)) #just reshape to make region of interest indices more natural\n",
    "#     movie_length = Input2.shape[0]\n",
    "    \n",
    "#     beta = np.zeros((Input2.shape[0],phi.shape[2])) #initialize beta at 0. beta is shape tk. movie_seq first dim is t\n",
    "#     center = (dim/2)*np.ones((2,movie_length,phi.shape[2])) #shape 2tk (2 since center is 2-vector). initialize centers at center of image. each center is 2-vector\n",
    "#     radius2 = ((dim/2+1)**2)*np.ones((movie_length,phi.shape[2])) # shape tk.initialize radius2 at 17^2, so start off region of interest as entire image\n",
    "    \n",
    "#     for bigStep in range(numInference):\n",
    "#         beta = InferBeta2NP(Input2, center, Output, radius2, phi ,beta, eta, epsilon, betaStep, movie_length, dim)\n",
    "#         radius2 = InferRadius2NP(Input2, center, Output, radius2, phi, beta, eta3, epsilon, attStep, movie_length, dim)\n",
    "#         center = InferCenterNP(Input2, center, Output, radius2, phi, beta, eta4, epsilon, attStep, movie_length, dim)\n",
    "#         print(bigStep, end='\\r')\n",
    "    \n",
    "#     finalImg = localImage(Input2, movie_length, dim, center, radius2, epsilon).reshape((center.shape[2],movie_length, Input.shape[1]))\n",
    "#     final_predictions = np.einsum('tk,ijk,ktj -> ti', beta, phi, finalImg, optimize = True)\n",
    "    \n",
    "#     fig = plt.figure(figsize = (20,6)) #plot the figures, top is ground truth, bottom is predictions\n",
    "#     for i in range(movie_length):\n",
    "#         for j in range(2):\n",
    "#             fig.add_subplot(2,movie_length,movie_length*j+i+1)\n",
    "#             if j == 0:\n",
    "#                 plt.imshow(Output[i].reshape((dim,dim)),cmap = \"Greys\")\n",
    "#             else: \n",
    "#                 plt.imshow(final_predictions[i].reshape((dim,dim)),cmap=\"Greys\")\n",
    "    \n",
    "#     return((beta,radius2,center))\n"
   ]
  },
  {
   "cell_type": "code",
   "execution_count": 80,
   "metadata": {},
   "outputs": [],
   "source": [
    "def norm_densNP(x ,epsilon):\n",
    "    z = (1/np.sqrt(2*np.pi*epsilon))*np.exp((-(x**2))/(2*epsilon))\n",
    "    return(z)\n",
    "\n",
    "def diffMatNP(movie_length, dim, center, radius2):    \n",
    "    diff_mat = np.empty((2,center.shape[2], movie_length, dim, dim)) #shape 2ktdd\n",
    "    \n",
    "    for k in range(center.shape[2]):\n",
    "        for t in range(movie_length):\n",
    "            for i in range(dim):\n",
    "                for j in range(dim):\n",
    "                    diff_mat[:,k,t,i,j] = (np.array([i,j])-center[:,t,k])\n",
    "\n",
    "                        \n",
    "    return(diff_mat)\n",
    "\n",
    "def localImageNP(Input2, movie_length, dim, center, radius2, epsilon):\n",
    "    local_matrix = np.empty((center.shape[2], movie_length, dim,dim)) #shape is ktdd, where k is number of transforms, t is time, d is dim of image\n",
    "    \n",
    "    for k in range(center.shape[2]):\n",
    "        for t in range(movie_length):\n",
    "            for i in range(dim):\n",
    "                for j in range(dim):\n",
    "                    local_matrix[k,t,i,j] = np.linalg.norm(np.array([i,j])-center[:,t,k])/radius2[t,k]\n",
    "    local_matrix[local_matrix <= 1+ epsilon] = 1\n",
    "    local_matrix[local_matrix > 1 + epsilon] = 0\n",
    "    \n",
    "    LocalInput2 = np.multiply(local_matrix, Input2)\n",
    "    \n",
    "    return(LocalInput2)\n",
    "\n",
    "def InferNbdNP(Input2, center, Output, radius2, phi, beta, eta3, eta4, epsilon, attStep, movie_length, dim):\n",
    "    for step in range(attStep):\n",
    "        localimg = localImageNP(Input2, movie_length, dim, center, radius2, epsilon).reshape((center.shape[2],movie_length, Input2.shape[1]**2)) #calculate localized images and reshape\n",
    "        \n",
    "        predictions = np.einsum('tk,ijk,ktj -> ti', beta, phi, localimg, optimize = True)\n",
    "        error = Output - squashNP(predictions)\n",
    "        dTanh = squash_derivNP(predictions)\n",
    "        diff = diffMatNP(movie_length, dim, center, radius2)\n",
    "        dist = np.linalg.norm(diff,axis=0)+.01\n",
    "        rad_mat = np.ones_like(dist)\n",
    "        rad_mat = np.multiply(rad_mat,np.expand_dims(np.expand_dims(radius2.T, axis=2), axis = 3)) #array where kt is radius over all ij entries\n",
    "        PD_1 = norm_densNP(dist, epsilon)\n",
    "        PD_2 = norm_densNP(dist-rad_mat, epsilon)\n",
    "        PD_2 = (1/epsilon)*np.multiply(PD_1 - PD_2, diff/dist).reshape((2,center.shape[2],movie_length, Input2.shape[1]**2))                \n",
    "        centerPD = np.multiply(localimg, PD_2)\n",
    "        radPD = (1/epsilon)*np.multiply(localimg, PD_1.reshape(center.shape[2],movie_length, Input2.shape[1]**2)) #radius partial deriv\n",
    "        \n",
    "        \n",
    "        dR = np.einsum('ti, tk, ijk, tj, ktj -> tk', error, beta, phi, dTanh, radPD, optimize= True)\n",
    "        radius2 += eta3*dR\n",
    "        dC = np.einsum('ti, tk, ijk, tj, cktj -> ctk', error, beta, phi, dTanh, centerPD, optimize = True)\n",
    "        center += eta4*dC\n",
    "    return(radius2,center)\n",
    "\n",
    "def InferBeta2NP(Input2, center, Output, radius2, phi ,beta, eta, epsilon, betaStep, movie_length, dim):\n",
    "    \n",
    "    for step in range(betaStep):\n",
    "        \n",
    "        localimg = localImageNP(Input2, Input2.shape[0], dim, center, radius2, epsilon).reshape((center.shape[2],movie_length, Input2.shape[1]**2)) #calculate localized images and reshape\n",
    "        \n",
    "        predictions = np.einsum('tk,ijk,ktj -> ti', beta, phi, localimg, optimize=True)\n",
    "        error = Output - squashNP(predictions)\n",
    "        dTanh = squash_derivNP(predictions)\n",
    "        dBeta = np.einsum('ti,ijk, tj, ktj -> tk', error, phi, dTanh, localimg, optimize=True) - sparsePen*sparseDerivNP(np.expand_dims(beta,axis=0))[0,:,:] - derivPen*timeDerivNP(np.expand_dims(beta,axis=0))[0,:,:]\n",
    "        #just a bit of reshaping magic above to make the functions work, since sparse/derivPen made for data with extra batch dim\n",
    "        beta += eta2*dBeta\n",
    "    \n",
    "    return(beta)\n",
    "\n",
    "def InferLocalNP(movie_seq, phi, sparsePen, derivPen, eta2, eta3, eta4, betaStep, attStep, numInference): \n",
    "    #now want to infer beta, center, and radii for a single movie sequence\n",
    "    #***RADII ARE SQUARED, to make computing the derivative easier***\n",
    "    #assume movie sequence is shape txn2, where t is length (movie_length) and n2 is product of dimensions of 2d image\n",
    "    \n",
    "    dim = int(np.sqrt(movie_seq.shape[1]))\n",
    "    Input = movie_seq[:(movie_seq.shape[0]-1)]\n",
    "    Output = movie_seq[1:]\n",
    "    Input2 = Input.reshape((Input.shape[0],dim,dim)) #just reshape to make region of interest indices more natural\n",
    "    movie_length = Input2.shape[0]\n",
    "    \n",
    "    beta = np.zeros((Input2.shape[0],phi.shape[2])) #initialize beta at 0. beta is shape tk. movie_seq first dim is t\n",
    "    center = (dim/2)*np.ones((2,movie_length,phi.shape[2])) #shape 2tk (2 since center is 2-vector). initialize centers at center of image. each center is 2-vector\n",
    "    radius2 = ((dim/2+1)**2)*np.ones((movie_length,phi.shape[2])) # shape tk.initialize radius2 at 17^2, so start off region of interest as entire image\n",
    "    \n",
    "    for bigStep in range(numInference):\n",
    "        beta1 = InferBeta2NP(Input2, center, Output, radius2, phi ,beta, eta, epsilon, betaStep, movie_length, dim)\n",
    "        radius2, center = InferNbdNP(Input2, center, Output, radius2, phi, beta1, eta3, eta4, epsilon, attStep, movie_length, dim)\n",
    "        print(bigStep, end = '\\r')\n",
    "    \n",
    "    finalImg = localImageNP(Input2, movie_length, dim, center, radius2, epsilon).reshape((center.shape[2],movie_length, Input.shape[1]))\n",
    "    final_predictions = np.einsum('tk,ijk,ktj -> ti', beta, phi, finalImg, optimize = True)\n",
    "    \n",
    "    fig = plt.figure(figsize = (20,6)) #plot the figures, top is ground truth, bottom is predictions\n",
    "    for i in range(movie_length):\n",
    "        for j in range(2):\n",
    "            fig.add_subplot(2,movie_length,movie_length*j+i+1)\n",
    "            if j == 0:\n",
    "                plt.imshow(Output[i].reshape((dim,dim)),cmap = \"Greys\")\n",
    "            else: \n",
    "                plt.imshow(final_predictions[i].reshape((dim,dim)),cmap=\"Greys\")\n",
    "    \n",
    "    return((beta,radius2,center))\n"
   ]
  },
  {
   "cell_type": "code",
   "execution_count": null,
   "metadata": {},
   "outputs": [
    {
     "name": "stdout",
     "output_type": "stream",
     "text": [
      "30\r"
     ]
    }
   ],
   "source": [
    "testrun = InferLocalNP(testNP[19], learnPhi8, sparsePen, derivPen, eta2, eta3, eta4, betaStep, attStep, numInf2)"
   ]
  },
  {
   "cell_type": "code",
   "execution_count": 633,
   "metadata": {},
   "outputs": [
    {
     "data": {
      "image/png": "[encoded data removed]",
      "text/plain": [
       "<Figure size 1440x1440 with 7 Axes>"
      ]
     },
     "metadata": {
      "needs_background": "light"
     },
     "output_type": "display_data"
    }
   ],
   "source": [
    "fig = plt.figure(figsize=(20,20)) #image sequence from dataset\n",
    "for i in range(movie_length):\n",
    "        fig.add_subplot(1,movie_length,i+1)\n",
    "        plt.imshow(testNP[19,i].reshape((imgDim,imgDim)),cmap = \"Greys\")"
   ]
  },
  {
   "cell_type": "code",
   "execution_count": null,
   "metadata": {},
   "outputs": [],
   "source": []
  }
 ],
 "metadata": {
  "kernelspec": {
   "display_name": "Python 3",
   "language": "python",
   "name": "python3"
  },
  "language_info": {
   "codemirror_mode": {
    "name": "ipython",
    "version": 3
   },
   "file_extension": ".py",
   "mimetype": "text/x-python",
   "name": "python",
   "nbconvert_exporter": "python",
   "pygments_lexer": "ipython3",
   "version": "3.7.3"
  }
 },
 "nbformat": 4,
 "nbformat_minor": 2
}
