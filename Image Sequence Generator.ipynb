{
 "cells": [
  {
   "cell_type": "code",
   "execution_count": 95,
   "metadata": {},
   "outputs": [],
   "source": [
    "import torch\n",
    "import numpy as np\n",
    "%matplotlib inline\n",
    "import matplotlib.pyplot as plt\n",
    "from skimage.draw import random_shapes\n",
    "import cv2\n",
    "import pandas as pd\n",
    "import random"
   ]
  },
  {
   "cell_type": "code",
   "execution_count": 160,
   "metadata": {},
   "outputs": [],
   "source": [
    "#Function to generate the random shape of a size between given bounds\n",
    "def shape_gen(minimum,maximum):\n",
    "    x = random_shapes((32, 32), max_shapes=1, multichannel=False, intensity_range=(0,0),min_size = minimum, max_size=maximum)[0]\n",
    "    x = -1*x+255\n",
    "    return(x)"
   ]
  },
  {
   "cell_type": "code",
   "execution_count": 161,
   "metadata": {
    "scrolled": true
   },
   "outputs": [
    {
     "data": {
      "text/plain": [
       "(1000, 1, 32, 32)"
      ]
     },
     "execution_count": 161,
     "metadata": {},
     "output_type": "execute_result"
    }
   ],
   "source": [
    "#Create array of start images\n",
    "images_seq = [shape_gen(10,25) for i in range(1000)]\n",
    "images_seq = np.array(images_seq)\n",
    "images_seq = np.expand_dims(images_seq,1)\n",
    "images_seq.shape"
   ]
  },
  {
   "cell_type": "code",
   "execution_count": 163,
   "metadata": {},
   "outputs": [],
   "source": [
    "#For a given collection of start images with (n,1,k,k), with n images of dimension k by k. Trans_range is one-sided,\n",
    "#so trans_range = 4 allows translations of 4 up or down, 4 left or right. same for rot_center, how much the center of \n",
    "#rotation can shift to one-side both up/down. rot_angle is maximum angle in DEGREES\n",
    "def rand_trans(data, trans_range, rot_center, rot_angle): \n",
    "    n, row, col = data[:,0,:,:].shape\n",
    "    Index = [random.randint(0,1) for i in range(n)] #randomly choose either translation or rotation\n",
    "    \n",
    "    def M_gen(i):\n",
    "        if i == 0:\n",
    "            hor = random.randint(-trans_range, trans_range)\n",
    "            ver = random.randint(-trans_range, trans_range)\n",
    "            x = np.float32([[1,0,hor],[0,1,ver]]) #create translation matrix\n",
    "        else:\n",
    "            center = (row/2+random.randint(-rot_center,rot_center),col/2+random.randint(-rot_center,rot_center))\n",
    "            angle = random.uniform(0,rot_angle)\n",
    "            x = cv2.getRotationMatrix2D(center,angle,1) #create rotation matrix\n",
    "        return(x)\n",
    "    \n",
    "    Z = np.array([M_gen(i) for i in Index])\n",
    "    \n",
    "    return(Z)\n",
    "    "
   ]
  },
  {
   "cell_type": "code",
   "execution_count": 164,
   "metadata": {},
   "outputs": [
    {
     "data": {
      "text/plain": [
       "(1000, 2, 3)"
      ]
     },
     "execution_count": 164,
     "metadata": {},
     "output_type": "execute_result"
    }
   ],
   "source": [
    "M = rand_trans(images_seq, 3, 3, 45)\n",
    "M.shape"
   ]
  },
  {
   "cell_type": "code",
   "execution_count": 165,
   "metadata": {},
   "outputs": [],
   "source": [
    "#for a given collection of start images - \"data\" - and their associated transformations -\"transform\", one for each start image-\n",
    "#will generate a movie sequence of the desired length. note \"data\" should be np.array of shape (n,1,k,k).\n",
    "def image_gen(data, transform, movie_len):\n",
    "    X = data\n",
    "    for j in range(movie_len-1):\n",
    "        Y = np.array([cv2.warpAffine(X[i,j],M[i],(32,32)) for i in range(data.shape[0])])\n",
    "        Y = np.expand_dims(Y,1)\n",
    "        X = np.concatenate((X,Y),axis=1)\n",
    "    \n",
    "    return(X)"
   ]
  },
  {
   "cell_type": "code",
   "execution_count": 166,
   "metadata": {},
   "outputs": [],
   "source": [
    "new = image_gen(images_seq, M, 10)"
   ]
  },
  {
   "cell_type": "code",
   "execution_count": 167,
   "metadata": {},
   "outputs": [
    {
     "data": {
      "text/plain": [
       "array([[ 1.,  0.,  1.],\n",
       "       [ 0.,  1., -3.]])"
      ]
     },
     "execution_count": 167,
     "metadata": {},
     "output_type": "execute_result"
    }
   ],
   "source": [
    "M[17]"
   ]
  },
  {
   "cell_type": "code",
   "execution_count": 168,
   "metadata": {},
   "outputs": [
    {
     "data": {
      "image/png": "[encoded data removed]",
      "text/plain": [
       "<Figure size 432x288 with 10 Axes>"
      ]
     },
     "metadata": {
      "needs_background": "light"
     },
     "output_type": "display_data"
    }
   ],
   "source": [
    "#Plot to show it works\n",
    "for i in range(10):\n",
    "    plt.subplot(2,5,i+1)\n",
    "    plt.imshow(new[17,i],cmap = \"Greys\")"
   ]
  },
  {
   "cell_type": "code",
   "execution_count": 105,
   "metadata": {},
   "outputs": [
    {
     "data": {
      "text/plain": [
       "<matplotlib.image.AxesImage at 0x15d17170390>"
      ]
     },
     "execution_count": 105,
     "metadata": {},
     "output_type": "execute_result"
    },
    {
     "data": {
      "image/png": "[encoded data removed]",
      "text/plain": [
       "<Figure size 432x288 with 1 Axes>"
      ]
     },
     "metadata": {
      "needs_background": "light"
     },
     "output_type": "display_data"
    }
   ],
   "source": [
    "#Translation matrix\n",
    "col, row = 32, 32\n",
    "\n",
    "M = np.float32([[1,0,-10],[0,1,5]])\n",
    "dst = cv2.warpAffine(test,M,(col,row))\n",
    "\n",
    "plt.imshow(dst,cmap='Greys')"
   ]
  },
  {
   "cell_type": "code",
   "execution_count": 132,
   "metadata": {},
   "outputs": [
    {
     "data": {
      "image/png": "[encoded data removed]",
      "text/plain": [
       "<Figure size 432x288 with 4 Axes>"
      ]
     },
     "metadata": {
      "needs_background": "light"
     },
     "output_type": "display_data"
    }
   ],
   "source": [
    "#Rotation matrix\n",
    "\n",
    "N = cv2.getRotationMatrix2D((col/2,row/2),30,1) #center, angle, scaling\n",
    "dst2 = cv2.warpAffine(test,N,(col,row))\n",
    "dst3 = cv2.warpAffine(dst2,N,(col,row))\n",
    "dst4 = cv2.warpAffine(dst3,N,(col,row))\n",
    "\n",
    "c = [test,dst2,dst3,dst4]\n",
    "\n",
    "for i in range(4):\n",
    "    plt.subplot(1,4, i+1)\n",
    "    plt.imshow(c[i],cmap = \"Greys\")"
   ]
  }
 ],
 "metadata": {
  "kernelspec": {
   "display_name": "Python 3",
   "language": "python",
   "name": "python3"
  },
  "language_info": {
   "codemirror_mode": {
    "name": "ipython",
    "version": 3
   },
   "file_extension": ".py",
   "mimetype": "text/x-python",
   "name": "python",
   "nbconvert_exporter": "python",
   "pygments_lexer": "ipython3",
   "version": "3.7.1"
  }
 },
 "nbformat": 4,
 "nbformat_minor": 2
}
