{
 "cells": [
  {
   "cell_type": "code",
   "execution_count": 55,
   "metadata": {},
   "outputs": [],
   "source": [
    "import torch\n",
    "import numpy as np\n",
    "%matplotlib inline\n",
    "import matplotlib.pyplot as plt\n",
    "from skimage.draw import random_shapes\n",
    "import cv2\n",
    "import pandas as pd\n",
    "import random"
   ]
  },
  {
   "cell_type": "code",
   "execution_count": 132,
   "metadata": {},
   "outputs": [],
   "source": [
    "imgDim = 16"
   ]
  },
  {
   "cell_type": "code",
   "execution_count": 133,
   "metadata": {},
   "outputs": [],
   "source": [
    "#Function to generate a dimxdim image of a random shape of a size between given bounds\n",
    "def shape_gen(imgDim, minimum,maximum):\n",
    "    x = random_shapes((dim, dim), max_shapes=1, multichannel=False, intensity_range=(0,0),min_size = minimum, max_size=maximum)[0]\n",
    "    x = (-1*x+255)/255\n",
    "    return(x)"
   ]
  },
  {
   "cell_type": "code",
   "execution_count": 135,
   "metadata": {},
   "outputs": [],
   "source": [
    "#Create array of start images\n",
    "\n",
    "images_seq = [shape_gen(imgDim,10,25) for i in range(1000)]\n",
    "images_seq = np.array(images_seq)\n",
    "images_seq = np.expand_dims(images_seq,1)\n",
    "\n",
    "test_seq = [shape_gen(imgDim,10,25) for i in range(100)]\n",
    "test_seq = np.array(test_seq)\n",
    "test_seq = np.expand_dims(test_seq,1)"
   ]
  },
  {
   "cell_type": "code",
   "execution_count": 136,
   "metadata": {},
   "outputs": [],
   "source": [
    "#For a given collection of start images with (n,1,k,k), with n images of dimension k by k. Trans_range is one-sided,\n",
    "#so trans_range = 4 allows translations of 4 up or down, 4 left or right. same for rot_center, how much the center of \n",
    "#rotation can shift to one-side both up/down. rot_angle is maximum angle in DEGREES\n",
    "def rand_trans(data, trans_range, rot_center, rot_angle): \n",
    "    n, row, col = data[:,0,:,:].shape\n",
    "    Index = [random.randint(0,1) for i in range(n)] #randomly choose either translation or rotation\n",
    "    \n",
    "    def M_gen(i):\n",
    "        if i == 0:\n",
    "            hor = random.randint(-trans_range, trans_range)\n",
    "            ver = random.randint(-trans_range, trans_range)\n",
    "            x = np.float32([[1,0,hor],[0,1,ver]]) #create translation matrix\n",
    "        else:\n",
    "            center = (row/2+random.randint(-rot_center,rot_center),col/2+random.randint(-rot_center,rot_center))\n",
    "            angle = random.uniform(0,rot_angle)\n",
    "            x = cv2.getRotationMatrix2D(center,angle,1) #create rotation matrix\n",
    "        return(x)\n",
    "    \n",
    "    Z = np.array([M_gen(i) for i in Index])\n",
    "    \n",
    "    return(Z)\n",
    "    "
   ]
  },
  {
   "cell_type": "code",
   "execution_count": 137,
   "metadata": {},
   "outputs": [],
   "source": [
    "M = rand_trans(images_seq, 2, 2, 45)\n",
    "M2 = rand_trans(test_seq, 2, 2, 45)"
   ]
  },
  {
   "cell_type": "code",
   "execution_count": 138,
   "metadata": {},
   "outputs": [],
   "source": [
    "#for a given collection of start images - \"data\" - and their associated transformations -\"transform\", one for each start image-\n",
    "#will generate a movie sequence of the desired length. note \"data\" should be np.array of shape (n,1,k,k).\n",
    "def image_gen(data, transform, movie_len, imgDim):\n",
    "    X = data\n",
    "    for j in range(movie_len-1):\n",
    "        Y = np.array([cv2.warpAffine(X[i,j],M[i],(imgDim,imgDim)) for i in range(data.shape[0])])\n",
    "        Y = np.expand_dims(Y,1) #add the second axis, which denotes time, to concatenate the images\n",
    "        X = np.concatenate((X,Y),axis=1)\n",
    "    \n",
    "    X = X.reshape(X.shape[0],X.shape[1],X.shape[2]**2)\n",
    "    return(X) #reshape so it's easier to work with"
   ]
  },
  {
   "cell_type": "code",
   "execution_count": 139,
   "metadata": {},
   "outputs": [],
   "source": [
    "data = image_gen(images_seq, M, 10, imgDim)\n",
    "test_raw = image_gen(test_seq, M2, 10, imgDim)"
   ]
  },
  {
   "cell_type": "code",
   "execution_count": 140,
   "metadata": {},
   "outputs": [
    {
     "data": {
      "text/plain": [
       "(1000, 10, 256)"
      ]
     },
     "execution_count": 140,
     "metadata": {},
     "output_type": "execute_result"
    }
   ],
   "source": [
    "data.shape"
   ]
  },
  {
   "cell_type": "code",
   "execution_count": 141,
   "metadata": {},
   "outputs": [],
   "source": [
    "def multi_gen(test_seq, testSize, maxShapes):\n",
    "    \n",
    "    #Set up first array, then just loop by concatenating.\n",
    "    \n",
    "    test_data = test_seq[np.random.randint(0,test_seq.shape[0],maxShapes)] #choose random number of movie sequences\n",
    "    test_data = np.sum(test_data,axis= 0) #sum them together\n",
    "    test_data[test_data > 1] = 1 #cap images at 1\n",
    "    test_data = np.expand_dims(test_data, axis = 0) #add back the extra first axis, which indexes every movie sequence\n",
    "    \n",
    "    for datum in range(1,testSize):\n",
    "        subset = test_seq[np.random.randint(0,test_seq.shape[0],maxShapes)]\n",
    "        subset = np.sum(subset,axis=0)\n",
    "        subset[subset > 1] = 1\n",
    "        subset = np.expand_dims(subset, axis = 0)\n",
    "        test_data = np.concatenate((test_data,subset),axis=0)\n",
    "    \n",
    "    return(test_data)"
   ]
  },
  {
   "cell_type": "code",
   "execution_count": 142,
   "metadata": {},
   "outputs": [],
   "source": [
    "test_set = multi_gen(test_raw, 100, 2)"
   ]
  },
  {
   "cell_type": "code",
   "execution_count": 143,
   "metadata": {},
   "outputs": [
    {
     "data": {
      "text/plain": [
       "(100, 10, 256)"
      ]
     },
     "execution_count": 143,
     "metadata": {},
     "output_type": "execute_result"
    }
   ],
   "source": [
    "test_set.shape"
   ]
  },
  {
   "cell_type": "code",
   "execution_count": 144,
   "metadata": {},
   "outputs": [],
   "source": [
    "#Rationale: since movies of multiple objects, with overlap, will just be sum of two images with values capped at 255,\n",
    "#want transforms to reflect this ceiling like behavior or else prediction might be bad. \n",
    "#Will use a smooth squashing function, tanh.\n",
    "\n",
    "def squash(x):\n",
    "    y = 1.3*np.tanh(x)\n",
    "    return(y)\n",
    "\n",
    "def squash_deriv(x):\n",
    "    y = 1.3*(1-np.tanh(x)**2)\n",
    "    return(y)"
   ]
  },
  {
   "cell_type": "code",
   "execution_count": 149,
   "metadata": {},
   "outputs": [],
   "source": [
    "numTransforms = 15\n",
    "trainSteps = 1000\n",
    "batchSize = 20 #training \n",
    "sparsePen = 1\n",
    "derivPen = .5\n",
    "epsilon = .0001 #variance of normal desntiy in the smoothed bump function.\n",
    "eta = .01 #learning rate of phi, the dictionary of transforms\n",
    "eta2 = .05 #learning rate of beta, the transform coeff\n",
    "eta3 = .1 #Learning rate of center\n",
    "eta4 = .1 #Learning rate of radii\n",
    "numInference = 50 #number of basis trans * length of movie sequence\n",
    "betaStep = 10 #FOR TRAINED TRANSFORMS. mini cycle for beta\n",
    "attStep = 5 #FOR TRAINED TRANSFORMS. mini cycle for center/radii"
   ]
  },
  {
   "cell_type": "code",
   "execution_count": 91,
   "metadata": {},
   "outputs": [],
   "source": [
    "data_batch = data[np.random.randint(0,data.shape[0],batchSize)]\n",
    "Input = data_batch[:,:9,:] #will predict next frame from these\n",
    "Output = data_batch[:,1:10,:] #the frames to be predicted\n",
    "dim = data_batch.shape[2]\n",
    "phi = np.random.rand(dim, dim ,numTransforms)"
   ]
  },
  {
   "cell_type": "code",
   "execution_count": 92,
   "metadata": {},
   "outputs": [],
   "source": [
    "beta = np.zeros((Input.shape[0],Input.shape[1],phi.shape[2]))"
   ]
  },
  {
   "cell_type": "code",
   "execution_count": 63,
   "metadata": {
    "scrolled": true
   },
   "outputs": [
    {
     "name": "stdout",
     "output_type": "stream",
     "text": [
      "beta shape:(30, 9, 15)phi shape:(1024, 1024, 15)Input shape:(30, 9, 1024)\n"
     ]
    }
   ],
   "source": [
    "print(\"beta shape:\" + str(beta.shape) + \"phi shape:\" + str(phi.shape) + \"Input shape:\" + str(Input.shape))"
   ]
  },
  {
   "cell_type": "code",
   "execution_count": 64,
   "metadata": {},
   "outputs": [],
   "source": [
    "predictions = np.einsum('btk,ijk,btj -> bti', beta, phi, Input)"
   ]
  },
  {
   "cell_type": "code",
   "execution_count": 49,
   "metadata": {},
   "outputs": [],
   "source": [
    "error = Output - squash(predictions)"
   ]
  },
  {
   "cell_type": "code",
   "execution_count": 50,
   "metadata": {},
   "outputs": [
    {
     "data": {
      "text/plain": [
       "(30, 9, 1024)"
      ]
     },
     "execution_count": 50,
     "metadata": {},
     "output_type": "execute_result"
    }
   ],
   "source": [
    "error.shape"
   ]
  },
  {
   "cell_type": "code",
   "execution_count": 54,
   "metadata": {},
   "outputs": [],
   "source": [
    "check1 = timeDiff(beta)"
   ]
  },
  {
   "cell_type": "code",
   "execution_count": 55,
   "metadata": {},
   "outputs": [
    {
     "data": {
      "text/plain": [
       "(9, 1024, 15)"
      ]
     },
     "execution_count": 55,
     "metadata": {},
     "output_type": "execute_result"
    }
   ],
   "source": [
    "check1.shape"
   ]
  },
  {
   "cell_type": "code",
   "execution_count": 96,
   "metadata": {},
   "outputs": [],
   "source": [
    "phi2 = learnTransform(Input, Output, phi, beta, eta, 20)"
   ]
  },
  {
   "cell_type": "code",
   "execution_count": 97,
   "metadata": {},
   "outputs": [
    {
     "data": {
      "text/plain": [
       "(1024, 1024, 15)"
      ]
     },
     "execution_count": 97,
     "metadata": {},
     "output_type": "execute_result"
    }
   ],
   "source": [
    "phi2.shape"
   ]
  },
  {
   "cell_type": "code",
   "execution_count": 146,
   "metadata": {},
   "outputs": [],
   "source": [
    "#Training algorithm, image sequences with one shape. No need to infer center/radii yet.\n",
    "def timeDiff(beta):\n",
    "    #assuming beta has shape bkt, where k for trans, t for length, B for number of images (usually batch size)\n",
    "    \n",
    "    Zeroes = np.zeros((beta.shape[0],1,beta.shape[2]))\n",
    "    timeDeriv = np.diff(beta, axis= 1)\n",
    "    X = np.concatenate((Zeroes, timeDeriv), axis=1)\n",
    "    Y = np.concatenate((timeDeriv,Zeroes), axis =1)\n",
    "    Z = -1*np.sign(X)+np.sign(Y)\n",
    "    \n",
    "    return(Z)\n",
    "\n",
    "def inferBeta(Input, Output, phi, sparsePen, derivPen, eta2, numInference):\n",
    "    #Assume data has shape (B, T, n2), where number of images(usually batch size) , T is time, and n2 is n^2 for nxn image\n",
    "    #phi is of shape (i,i',k) where i,i' denote image dim, k denotes transform, T is time, and B is batch\n",
    "    #Input are first T-1 frames. Output are frames 2 to T. Infer i^th frame from previous.\n",
    "    \n",
    "    beta = np.zeros((Input.shape[0],Input.shape[1],phi.shape[2])) #initialize beta at 0. beta is shape btk\n",
    "    \n",
    "    for step in range(numInference):\n",
    "        predictions = np.einsum('btk,ijk,btj -> bti', beta, phi, Input)\n",
    "        error = Output - predictions\n",
    "        dBeta = np.einsum('bti,ijk,btj -> btk', error, phi, Input) - sparsePen*np.sign(beta) - derivPen*timeDiff(beta)\n",
    "        beta += eta2*dBeta\n",
    "        \n",
    "    return(beta)\n",
    "    \n",
    "def learnTransform(Input, Output, phi, beta, eta, batchSize, numInference):\n",
    "    \n",
    "    for step in range(numInference):\n",
    "        predictions = np.einsum('btk,ijk,btj -> bti', beta, phi, Input)\n",
    "        error = Output - predictions\n",
    "        dPhi = np.einsum('bti, btj, btk -> ijk', error, Input, beta)\n",
    "        phi += (eta/batchSize)*dPhi\n",
    "    \n",
    "    return(phi)"
   ]
  },
  {
   "cell_type": "code",
   "execution_count": 153,
   "metadata": {},
   "outputs": [],
   "source": [
    "#Traning algo, image sequences with one shape.\n",
    "\n",
    "def Training1(dataset, trainSteps, batchSize, sparsePen, derivPen, eta, eta2, numInference, numTransforms):\n",
    "    \n",
    "    #intialize phi\n",
    "    dim = dataset.shape[2]\n",
    "    phi = np.random.rand(dim, dim ,numTransforms) #n2 x n2 x 15\n",
    "    \n",
    "    #start training\n",
    "    for trial in range(trainSteps):\n",
    "        \n",
    "        data_batch = dataset[np.random.randint(0,dataset.shape[0],batchSize)] #create random batch\n",
    "        Input = data_batch[:,:9,:] #will predict next frame from these\n",
    "        Output = data_batch[:,1:10,:] #the frames to be predicted\n",
    "        \n",
    "        #Find beta, fix, then optimize phi\n",
    "        beta = inferBeta(Input, Output, phi, sparsePen, derivPen, eta2, numInference)\n",
    "        phi = learnTransform(Input, Output, phi, beta, eta, batchSize, numInference)\n",
    "        \n",
    "        #renormalize by capping absolute value to 1\n",
    "        phi = phi/(np.abs(phi).max(axis=(0,1),keepdims=True))\n",
    "        \n",
    "    \n",
    "    return(phi)\n",
    "    "
   ]
  },
  {
   "cell_type": "code",
   "execution_count": 154,
   "metadata": {},
   "outputs": [
    {
     "data": {
      "text/plain": [
       "(256, 256, 15)"
      ]
     },
     "execution_count": 154,
     "metadata": {},
     "output_type": "execute_result"
    }
   ],
   "source": [
    "learnedPhi = Training1(data, 1, 5, sparsePen, derivPen, eta, eta2, 1, numTransforms)\n",
    "learnedPhi.shape"
   ]
  },
  {
   "cell_type": "code",
   "execution_count": 67,
   "metadata": {},
   "outputs": [],
   "source": [
    "movie_seq = data[0]\n",
    "movie_seq.shape\n",
    "dim = int(np.sqrt(movie_seq.shape[1]))"
   ]
  },
  {
   "cell_type": "code",
   "execution_count": 68,
   "metadata": {},
   "outputs": [],
   "source": [
    "Input = movie_seq[:(movie_seq.shape[0]-1),:]\n",
    "Output = movie_seq[1:,:]\n",
    "Input2 = Input.reshape((Input.shape[0],dim,dim)) #just reshape to make region of interest indices more natural\n",
    "movie_length = Input2.shape[0]\n",
    "numInference2 = 10 #this is arbitrary. want to update each of beta, c, r a little\n",
    "beta = np.zeros((Input2.shape[0],phi.shape[2])) #initialize beta at 0. beta is shape tk. movie_seq first dim is t\n",
    "center = (dim/2)*np.ones((2,Input2.shape[0],phi.shape[2])) #initialize centers at center of image. each center is 2-vector\n",
    "radius2 = 17*np.ones((Input2.shape[0],phi.shape[2])) #initialize radius2 at 17, so start off region of interest as entire image"
   ]
  },
  {
   "cell_type": "code",
   "execution_count": 59,
   "metadata": {},
   "outputs": [],
   "source": [
    "def normalMatrix(movie_length, dim, center, radius2, epsilon):\n",
    "    normal_matrix = np.empty((center.shape[2], movie_length, dim,dim)) #shape is ktdd, where k is number of transforms, t is time, d is dim of image\n",
    "    \n",
    "    for k in range(center.shape[2]):\n",
    "        for t in range(movie_length):\n",
    "            for i in range(dim):\n",
    "                for j in range(dim):\n",
    "                    normal_matrix[k,t,i,j] = (1/np.sqrt(2*np.pi*epsilon))*np.exp(-(radius2[t,k]-np.linalg.norm(np.array([i,j])-center[:,t,k])**2)**2/(2*epsilon**2))\n",
    "    \n",
    "    return(normal_matrix)\n",
    "\n",
    "def center_ParDeriv(movie_length, dim, center, radius2, epsilon): #calculates partial deriv for center, where each entry is 2-vector\n",
    "    normal_matrix = np.empty((center.shape[2], movie_length, dim,dim)) #shape is ktdd, where k is number of transforms, t is time, d is dim of image\n",
    "    \n",
    "    for k in range(center.shape[2]):\n",
    "        for t in range(movie_length):\n",
    "            for i in range(dim):\n",
    "                for j in range(dim):\n",
    "                    normal_matrix[k,t,i,j] = (1/np.sqrt(2*np.pi*epsilon))*np.exp(-(radius2[t,k]-np.linalg.norm(np.array([i,j])-center[:,t,k])**2)**2/(2*epsilon**2))\n",
    "    \n",
    "    distance_pd = np.empty((2,center.shape[2], movie_length, dim, dim)) #shape 2ktdd\n",
    "    for i in range(dim):\n",
    "        for j in range(dim):\n",
    "            distance_pd[:,k,t,i,j] = 2*(np.array([i,j])-center[:,t,k])\n",
    "            \n",
    "    centerPD = np.multiply(distance_pd, normal_matrix)\n",
    "    return(centerPD)"
   ]
  },
  {
   "cell_type": "code",
   "execution_count": 60,
   "metadata": {},
   "outputs": [
    {
     "data": {
      "text/plain": [
       "(2, 15, 9, 1024)"
      ]
     },
     "execution_count": 60,
     "metadata": {},
     "output_type": "execute_result"
    }
   ],
   "source": [
    "center2 = center_ParDeriv(movie_length, dim, center, radius2, epsilon).reshape((2,center.shape[2],movie_length, Input.shape[1]))\n",
    "center2.shape"
   ]
  },
  {
   "cell_type": "code",
   "execution_count": 70,
   "metadata": {},
   "outputs": [],
   "source": [
    "def localImage(Input2, movie_length, dim, center, radius2, epsilon):\n",
    "    local_matrix = np.empty((center.shape[2], movie_length, dim,dim)) #shape is ktdd, where k is number of transforms, t is time, d is dim of image\n",
    "    \n",
    "    for k in range(center.shape[2]):\n",
    "        for t in range(movie_length):\n",
    "            for i in range(dim):\n",
    "                for j in range(dim):\n",
    "                    local_matrix[k,t,i,j] = (np.linalg.norm(np.array([i,j])-center[:,t,k])**2)/radius2[t,k]\n",
    "    local_matrix[local_matrix <= 1+ epsilon] = 1\n",
    "    local_matrix[local_matrix > 1 + epsilon] = 0\n",
    "    \n",
    "    LocalInput2 = np.multiply(local_matrix, Input2)\n",
    "    \n",
    "    return(LocalInput2)"
   ]
  },
  {
   "cell_type": "code",
   "execution_count": 113,
   "metadata": {},
   "outputs": [
    {
     "data": {
      "text/plain": [
       "(15, 9, 32, 32)"
      ]
     },
     "execution_count": 113,
     "metadata": {},
     "output_type": "execute_result"
    }
   ],
   "source": [
    "localImage(Input2, movie_length, dim, center, radius2, epsilon).shape"
   ]
  },
  {
   "cell_type": "code",
   "execution_count": 71,
   "metadata": {},
   "outputs": [],
   "source": [
    "def InferRadius2(Input2, center, Output, radius2, phi, beta, eta3, epsilon, attStep):\n",
    "    \n",
    "    for step in range(attStep):\n",
    "    \n",
    "        localimg = localImage(Input2, movie_length, dim, center, radius2, epsilon).reshape((center.shape[2],movie_length, Input.shape[1])) #calculate localized images and reshape\n",
    "        \n",
    "        predictions = np.einsum('tk,ijk,ktj -> ti', beta, phi, localimg)\n",
    "        error = Output - squash(predictions)\n",
    "        dTanh = squash_deriv(predictions)\n",
    "        ParDeriv = np.multiply(normalMatrix(movie_length, dim, center, radius2, epsilon), Input2).reshape((center.shape[2],movie_length, Input.shape[1]))\n",
    "        #ParDeriv: each entry of matrix, reshaped as vector, is derivative of localized image wrt radius2\n",
    "        dR = np.einsum('ti, tk, ijk, tj, ktj -> tk', error, beta, phi, dTanh, ParDeriv)\n",
    "        radius2 += eta3*dR\n",
    "                                                                                                                      \n",
    "                                                                                                                \n",
    "    return(radius2)      "
   ]
  },
  {
   "cell_type": "code",
   "execution_count": 132,
   "metadata": {},
   "outputs": [],
   "source": [
    "localimg = localImage(Input2, movie_length, dim, center, radius2, epsilon).reshape((center.shape[2],movie_length, Input.shape[1]))"
   ]
  },
  {
   "cell_type": "code",
   "execution_count": 121,
   "metadata": {},
   "outputs": [
    {
     "data": {
      "text/plain": [
       "(15, 9, 1024)"
      ]
     },
     "execution_count": 121,
     "metadata": {},
     "output_type": "execute_result"
    }
   ],
   "source": [
    "localimg.shape"
   ]
  },
  {
   "cell_type": "code",
   "execution_count": 63,
   "metadata": {},
   "outputs": [
    {
     "data": {
      "text/plain": [
       "(9, 15)"
      ]
     },
     "execution_count": 63,
     "metadata": {},
     "output_type": "execute_result"
    }
   ],
   "source": [
    "newrad2 = InferRadius2(Input2, center, Output, radius2, phi, beta, eta3, epsilon, attStep)\n",
    "newrad2.shape"
   ]
  },
  {
   "cell_type": "code",
   "execution_count": 72,
   "metadata": {},
   "outputs": [],
   "source": [
    "def InferCenter(Input2, center, Output, radius2, phi, beta, eta4, epsilon, attStep):\n",
    "    \n",
    "    for step in range(attStep):\n",
    "    \n",
    "        localimg = localImage(Input2, movie_length, dim, center, radius2, epsilon).reshape((center.shape[2],movie_length, Input.shape[1])) #calculate localized images and reshape\n",
    "        \n",
    "        predictions = np.einsum('tk,ijk,ktj -> ti', beta, phi, localimg)\n",
    "        error = Output - squash(predictions)\n",
    "        dTanh = squash_deriv(predictions)\n",
    "        centerPD = center_ParDeriv(movie_length, dim, center, radius2, epsilon).reshape((2,center.shape[2],movie_length, Input.shape[1]))\n",
    "        #ParDeriv: each entry of matrix, reshaped as vector, is derivative of localized image wrt radius2\n",
    "        dC = np.einsum('ti, tk, ijk, cktj -> ctk', error, beta, phi, centerPD)\n",
    "        center += eta4*dC\n",
    "                                                                                                                      \n",
    "                                                                                                                \n",
    "    return(center)        "
   ]
  },
  {
   "cell_type": "code",
   "execution_count": 68,
   "metadata": {},
   "outputs": [
    {
     "data": {
      "text/plain": [
       "(2, 9, 15)"
      ]
     },
     "execution_count": 68,
     "metadata": {},
     "output_type": "execute_result"
    }
   ],
   "source": [
    "InferCenter(Input2, center, Output, radius2, phi, beta, eta4, epsilon, attStep).shape"
   ]
  },
  {
   "cell_type": "code",
   "execution_count": 46,
   "metadata": {},
   "outputs": [
    {
     "data": {
      "text/plain": [
       "(9, 15)"
      ]
     },
     "execution_count": 46,
     "metadata": {},
     "output_type": "execute_result"
    }
   ],
   "source": [
    "InferBeta2(Input2, center, Output, radius2, phi ,beta, eta, epsilon, betaStep).shape"
   ]
  },
  {
   "cell_type": "code",
   "execution_count": 73,
   "metadata": {},
   "outputs": [],
   "source": [
    "def InferBeta2(Input2, center, Output, radius2, phi ,beta, eta, epsilon, betaStep):\n",
    "    \n",
    "    for step in range(betaStep):\n",
    "        \n",
    "        localimg = localImage(Input2, movie_length, dim, center, radius2, epsilon).reshape((center.shape[2],movie_length, Input.shape[1])) #calculate localized images and reshape\n",
    "        \n",
    "        predictions = np.einsum('tk,ijk,ktj -> ti', beta, phi, localimg)\n",
    "        error = Output - squash(predictions)\n",
    "        dTanh = squash_deriv(predictions)\n",
    "        dBeta = np.einsum('ti,ijk, tj, ktj -> tk', error, phi, dTanh, localimg) - sparsePen*np.sign(np.expand_dims(beta,axis=0))[0,:,:] - derivPen*timeDiff(np.expand_dims(beta,axis=0))[0,:,:]\n",
    "        #just a bit of reshaping magic above to make the functions work, since sparse/derivPen made for data with extra batch dim\n",
    "        beta += eta2*dBeta\n",
    "    \n",
    "    return(beta)"
   ]
  },
  {
   "cell_type": "code",
   "execution_count": 20,
   "metadata": {},
   "outputs": [],
   "source": [
    "def InferLocal(movie_seq, phi, sparsePen, derivPen, eta2, eta3, eta4, betaStep, attStep, numInference): \n",
    "    #now want to infer beta, center, and radii for a single movie sequence\n",
    "    #***RADII ARE SQUARED, to make computing the derivative easier***\n",
    "    #assume movie sequence is shape txn2, where t is length (movie_length) and n2 is product of dimensions of 2d image\n",
    "    \n",
    "\n",
    "    dim = np.sqrt(movie_seq.shape[1])\n",
    "    Input = movie_seq[:(movie_seq.shape[0]-1)]\n",
    "    Output = movie_seq[1:]\n",
    "    Input2 = Input.reshape((Input.shape[0],dim,dim)) #just reshape to make region of interest indices more natural\n",
    "    numInference2 = 10 #this is arbitrary. want to update each of beta, c, r a little\n",
    "    movie_length = Input2.shape[0]\n",
    "    \n",
    "    beta = np.zeros((Input2.shape[0],phi.shape[2])) #initialize beta at 0. beta is shape tk. movie_seq first dim is t\n",
    "    center = (dim/2)*np.ones((2,movie_length,phi.shape[2])) #shape 2tk (2 since center is 2-vector). initialize centers at center of image. each center is 2-vector\n",
    "    radius2 = (17**2)*np.ones((movie_length,phi.shape[2])) # shape tk.initialize radius2 at 17^2, so start off region of interest as entire image\n",
    "    \n",
    "    for bigStep in range(numInference):\n",
    "        beta = InferBeta2(Input2, center, Output, radius2, phi ,beta, eta, epsilon, betaStep)\n",
    "        radius2 = InferRadius2(Input2, center, Output, radius2, phi, beta, eta3, epsilon, attStep)\n",
    "        center = InferCenter(Input2, center, Output, radius2, phi, beta, eta4, epsilon)\n",
    "    \n",
    "    finalImg = localImage(Input2, movie_length, dim, center, radius2, epsilon).reshape((center.shape[2],movie_length, Input.shape[1]))\n",
    "    final_predictions = np.einsum('tk,ijk,ktj -> ti', beta, phi, finalImg)\n",
    "    \n",
    "    fig = plt.figure(figsize = (20,6))\n",
    "    for i in range(movie_length):\n",
    "        for j in range(2):\n",
    "            fig.add_subplot(2,movie_length,movie_length*j+i+1)\n",
    "            if j == 0:\n",
    "                plt.imshow(Output[i].reshape((32,32)),cmap = \"Greys\")\n",
    "            else: \n",
    "                plt.imshow(final_predictions[i].reshape((32,32)),cmap=\"Greys\")\n",
    "    \n",
    "    return((beta,radius2,InferCenter))\n"
   ]
  },
  {
   "cell_type": "code",
   "execution_count": 74,
   "metadata": {},
   "outputs": [],
   "source": [
    "finalImg = localImage(Input2, movie_length, dim, center, radius2, epsilon).reshape((center.shape[2],movie_length, Input.shape[1]))\n",
    "final_predictions = np.einsum('tk,ijk,ktj -> ti', beta, phi, finalImg)"
   ]
  },
  {
   "cell_type": "code",
   "execution_count": null,
   "metadata": {},
   "outputs": [],
   "source": [
    "fig = plt.figure(figsize=(6,10))\n",
    "for i in range(5):\n",
    "    for j in range(2):\n",
    "        fig.add_subplot(2,5,5*j+i+1)\n",
    "        plt.imshow(new[17*j,i].reshape((32,32)),cmap = \"Greys\")"
   ]
  },
  {
   "cell_type": "code",
   "execution_count": 90,
   "metadata": {},
   "outputs": [
    {
     "data": {
      "image/png": "[encoded data removed]",
      "text/plain": [
       "<Figure size 1440x432 with 18 Axes>"
      ]
     },
     "metadata": {
      "needs_background": "light"
     },
     "output_type": "display_data"
    }
   ],
   "source": [
    "fig = plt.figure(figsize = (20,6))\n",
    "for i in range(movie_length):\n",
    "    for j in range(2):\n",
    "        fig.add_subplot(2,movie_length,movie_length*j+i+1)\n",
    "        if j == 0:\n",
    "            plt.imshow(Output[i].reshape((32,32)),cmap = \"Greys\")\n",
    "        else: \n",
    "            plt.imshow(final_predictions[i].reshape((32,32)),cmap=\"Greys\")"
   ]
  },
  {
   "cell_type": "code",
   "execution_count": 41,
   "metadata": {},
   "outputs": [
    {
     "data": {
      "text/plain": [
       "(2, 9, 15)"
      ]
     },
     "execution_count": 41,
     "metadata": {},
     "output_type": "execute_result"
    }
   ],
   "source": [
    "center.shape"
   ]
  },
  {
   "cell_type": "code",
   "execution_count": 42,
   "metadata": {},
   "outputs": [
    {
     "data": {
      "text/plain": [
       "(9, 15)"
      ]
     },
     "execution_count": 42,
     "metadata": {},
     "output_type": "execute_result"
    }
   ],
   "source": [
    "radius2.shape"
   ]
  },
  {
   "cell_type": "code",
   "execution_count": 43,
   "metadata": {},
   "outputs": [
    {
     "data": {
      "text/plain": [
       "(9, 1024)"
      ]
     },
     "execution_count": 43,
     "metadata": {},
     "output_type": "execute_result"
    }
   ],
   "source": [
    "Input.shape"
   ]
  },
  {
   "cell_type": "code",
   "execution_count": null,
   "metadata": {},
   "outputs": [],
   "source": []
  }
 ],
 "metadata": {
  "kernelspec": {
   "display_name": "Python 3",
   "language": "python",
   "name": "python3"
  },
  "language_info": {
   "codemirror_mode": {
    "name": "ipython",
    "version": 3
   },
   "file_extension": ".py",
   "mimetype": "text/x-python",
   "name": "python",
   "nbconvert_exporter": "python",
   "pygments_lexer": "ipython3",
   "version": "3.7.1"
  }
 },
 "nbformat": 4,
 "nbformat_minor": 2
}
