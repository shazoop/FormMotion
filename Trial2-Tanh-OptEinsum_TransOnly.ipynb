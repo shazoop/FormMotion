{
 "cells": [
  {
   "cell_type": "code",
   "execution_count": 1,
   "metadata": {},
   "outputs": [],
   "source": [
    "import torch\n",
    "import numpy as np\n",
    "%matplotlib inline\n",
    "import matplotlib.pyplot as plt\n",
    "from skimage.draw import random_shapes\n",
    "import cv2\n",
    "import random\n",
    "from numba import njit"
   ]
  },
  {
   "cell_type": "code",
   "execution_count": 2,
   "metadata": {},
   "outputs": [],
   "source": [
    "#Function to generate a dimxdim image of a random shape of a size between given bounds\n",
    "def shape_gen(dim, minimum,maximum):\n",
    "    x = random_shapes((dim, dim), max_shapes=1, multichannel=False, intensity_range=(0,0),min_size = minimum, max_size=maximum)[0]\n",
    "    x = (-1*x+255)/255\n",
    "    return(x)"
   ]
  },
  {
   "cell_type": "code",
   "execution_count": 3,
   "metadata": {},
   "outputs": [],
   "source": [
    "imgDim = 16 #image dimension\n",
    "mov_length = 8 "
   ]
  },
  {
   "cell_type": "code",
   "execution_count": 86,
   "metadata": {},
   "outputs": [],
   "source": [
    "#Create array of start images\n",
    "images_seq = [shape_gen(imgDim,4,10) for i in range(100)]\n",
    "images_seq = np.array(images_seq)\n",
    "images_seq = np.expand_dims(images_seq,1)\n",
    "\n",
    "test_seq = [shape_gen(imgDim,4,10) for i in range(101)]\n",
    "test_seq = np.array(test_seq)\n",
    "test_seq = np.expand_dims(test_seq,1)"
   ]
  },
  {
   "cell_type": "code",
   "execution_count": 87,
   "metadata": {},
   "outputs": [],
   "source": [
    "#For a given collection of start images with (n,1,k,k), with n images of dimension k by k. Trans_range is one-sided,\n",
    "#so trans_range = 4 allows translations of 4 up or down, 4 left or right. same for rot_center, how much the center of \n",
    "#rotation can shift to one-side both up/down. rot_angle is maximum angle in DEGREES\n",
    "def rand_trans(data, trans_range, rot_center, rot_angle): \n",
    "#     n, row, col = data[:,0,:,:].shape\n",
    "#     Index = [random.randint(0,1) for i in range(n)] #randomly choose either translation or rotation\n",
    "    \n",
    "#     def M_gen(i):\n",
    "#         if i == 0:\n",
    "#             hor = random.randint(-trans_range, trans_range)\n",
    "#             ver = random.randint(-trans_range, trans_range)\n",
    "#             x = np.float32([[1,0,hor],[0,1,ver]]) #create translation matrix\n",
    "#         else:\n",
    "#             center = (row/2+random.randint(-rot_center,rot_center),col/2+random.randint(-rot_center,rot_center))\n",
    "#             angle = random.uniform(0,rot_angle)\n",
    "#             x = cv2.getRotationMatrix2D(center,angle,1) #create rotation matrix\n",
    "#         return(x)\n",
    "    \n",
    "#     Z = np.array([M_gen(i) for i in Index])\n",
    "    def M_gen(i):\n",
    "        hor = random.randint(-trans_range, trans_range)\n",
    "        ver = random.randint(-trans_range, trans_range)\n",
    "        x = np.float32([[1,0,hor],[0,1,ver]]) #create translation matrix\n",
    "\n",
    "        return(x)\n",
    "\n",
    "    Z = np.array([M_gen(i) for i in range(data.shape[0])])\n",
    "    \n",
    "    return(Z)\n",
    "    "
   ]
  },
  {
   "cell_type": "code",
   "execution_count": 88,
   "metadata": {},
   "outputs": [],
   "source": [
    "M = rand_trans(images_seq, 1, 0, 45)\n",
    "M2 = rand_trans(test_seq, 1, 0, 45)"
   ]
  },
  {
   "cell_type": "code",
   "execution_count": 107,
   "metadata": {},
   "outputs": [],
   "source": [
    "#for a given collection of start images - \"data\" - and their associated transformations -\"transform\", one for each start image-\n",
    "#will generate a movie sequence of the desired length. note \"data\" should be np.array of shape (n,1,k,k).\n",
    "def image_gen(data, transform, movie_len,imgDim):\n",
    "    X = data\n",
    "    for j in range(movie_len-1):\n",
    "        Y = np.array([cv2.warpAffine(X[i,j],transform[i],(imgDim,imgDim)) for i in range(data.shape[0])])\n",
    "        Y = np.expand_dims(Y,1) #add the second axis, which denotes time, to concatenate the images\n",
    "        X = np.concatenate((X,Y),axis=1)\n",
    "    \n",
    "    X = X.reshape(X.shape[0],X.shape[1],X.shape[2]**2) #reshape so it's easier to work with\n",
    "    return(X) "
   ]
  },
  {
   "cell_type": "code",
   "execution_count": 108,
   "metadata": {},
   "outputs": [],
   "source": [
    "# data = image_gen(images_seq, M, mov_length, imgDim)\n",
    "test_raw = image_gen(test_seq, M2, mov_length, imgDim)"
   ]
  },
  {
   "cell_type": "code",
   "execution_count": 99,
   "metadata": {},
   "outputs": [
    {
     "name": "stdout",
     "output_type": "stream",
     "text": [
      "101\n"
     ]
    }
   ],
   "source": [
    "image_gen(test_seq, M2, mov_length, imgDim)"
   ]
  },
  {
   "cell_type": "code",
   "execution_count": 9,
   "metadata": {},
   "outputs": [],
   "source": [
    "def multi_gen(test_seq, testSize, maxShapes):\n",
    "    \n",
    "    #Set up first array, then just loop by concatenating.\n",
    "    \n",
    "    test_data = test_seq[np.random.randint(0,test_seq.shape[0],maxShapes)] #choose random number of movie sequences\n",
    "    test_data = np.sum(test_data,axis= 0) #sum them together\n",
    "    test_data[test_data > 1] = 1 #cap images at 1\n",
    "    test_data = np.expand_dims(test_data, axis = 0) #add back the extra first axis, which indexes every movie sequence\n",
    "    \n",
    "    for datum in range(1,testSize):\n",
    "        subset = test_seq[np.random.randint(0,test_seq.shape[0],maxShapes)]\n",
    "        subset = np.sum(subset,axis=0)\n",
    "        subset[subset > 1] = 1\n",
    "        subset = np.expand_dims(subset, axis = 0)\n",
    "        test_data = np.concatenate((test_data,subset),axis=0)\n",
    "    \n",
    "    return(test_data)"
   ]
  },
  {
   "cell_type": "code",
   "execution_count": 10,
   "metadata": {},
   "outputs": [],
   "source": [
    "test = multi_gen(data, 100, 2)"
   ]
  },
  {
   "cell_type": "code",
   "execution_count": 11,
   "metadata": {},
   "outputs": [],
   "source": [
    "#Rationale: since movies of multiple objects, with overlap, will just be sum of two images with values capped at 255,\n",
    "#want transforms to reflect this ceiling like behavior or else prediction might be bad. \n",
    "#Will use a smooth squashing function, tanh.\n",
    "\n",
    "def squash(x):\n",
    "    y = 1.3*np.tanh(x) #1.3 so will be approxiamtely linear on [-1,1]\n",
    "    return(y)\n",
    "\n",
    "def squash_deriv(x):\n",
    "    y = 1.3*(1-np.tanh(x)**2)\n",
    "    return(y)"
   ]
  },
  {
   "cell_type": "code",
   "execution_count": 486,
   "metadata": {},
   "outputs": [],
   "source": [
    "numTransforms = 16\n",
    "trainSteps = 1000\n",
    "batchSize = 25 #training \n",
    "sparsePen = 12\n",
    "derivPen = 12\n",
    "epsilon = 1 #variance of normal desntiy in the smoothed bump function.\n",
    "eta = .02 #learning rate of phi, the dictionary of transforms\n",
    "eta2 = .02 #learning rate of beta, the transform coeff\n",
    "eta3 = 300 #Learning rate of center\n",
    "eta4 = 300 #Learning rate of radii\n",
    "numInference = 150 #arbitrary\n",
    "numInf2 = 50\n",
    "betaStep = 20 #FOR TRAINED TRANSFORMS. mini cycle for beta\n",
    "attStep = 20 #FOR TRAINED TRANSFORMS. mini cycle for center/radii"
   ]
  },
  {
   "cell_type": "code",
   "execution_count": 13,
   "metadata": {},
   "outputs": [],
   "source": [
    "#Training algorithm, image sequences with one shape. No need to infer center/radii yet.\n",
    "def timeDeriv(beta):\n",
    "    #assuming beta has shape btk, where k for trans, t for length, B for number of images (usually batch size)\n",
    "    \n",
    "    Zeroes = np.zeros((beta.shape[0],1,beta.shape[2]))\n",
    "    timeDiff = np.diff(beta, axis= 1)\n",
    "    tmDiffnorm = np.linalg.norm(timeDiff, ord = 1, axis=1)#normalize across time\n",
    "    deriv_part1 = tmDiffnorm/(tmDiffnorm**2+1) \n",
    "    deriv_part1 = np.expand_dims(deriv_part1, axis = 1)\n",
    "    X = np.concatenate((Zeroes, timeDiff), axis=1)\n",
    "    Y = np.concatenate((timeDiff,Zeroes), axis =1)\n",
    "    Z = np.sign(X)-np.sign(Y)\n",
    "    timeBeta = np.multiply(deriv_part1,Z)\n",
    "    \n",
    "    return(timeBeta)\n",
    "\n",
    "def sparseDeriv(beta):\n",
    "    #assume beta has shape btk.\n",
    "    \n",
    "    norm_beta = np.linalg.norm(beta,ord=1, axis=2) #normalize btk, for all batches and time\n",
    "    deriv_part1 = norm_beta/(norm_beta**2+1)\n",
    "    deriv_part1 = np.expand_dims(deriv_part1, axis = 2)\n",
    "    sparseBeta = np.multiply(deriv_part1,np.sign(beta))\n",
    "    \n",
    "    return(sparseBeta)\n",
    "\n",
    "def inferBeta(Input, Output, phi, sparsePen, derivPen, eta2):\n",
    "    #Assume data has shape (B, T, n2), where number of images(usually batch size) , T is time, and n2 is n^2 for nxn image\n",
    "    #phi is of shape (i,i',k) where i,i' denote image dim, k denotes transform, T is time, and B is batch\n",
    "    #Input are first T-1 frames. Output are frames 2 to T. Infer i^th frame from previous.\n",
    "    \n",
    "    beta = np.zeros((Input.shape[0],Input.shape[1],phi.shape[2])) #initialize beta at 0. beta is shape btk\n",
    "    \n",
    "    for step in range(numInference):\n",
    "        predictions = np.einsum('btk,ijk,btj -> bti', beta, phi, Input,optimize=True)\n",
    "        dTanh = squash_deriv(predictions)\n",
    "        error = Output - squash(predictions)\n",
    "        dBeta = np.einsum('bti,ijk,btj, btj -> btk', error, phi, dTanh, Input, optimize=True) - sparsePen*np.sign(beta) - derivPen*timeDiff(beta)\n",
    "        beta += eta2*dBeta\n",
    "        \n",
    "    return(beta)\n",
    "\n",
    "\n",
    "    \n",
    "def learnTransform(Input, Output, phi, beta, eta, batchSize):\n",
    "    \n",
    "    predictions = np.einsum('btk,ijk,btj -> bti', beta, phi, Input, optimize=True)\n",
    "    error = Output - squash(predictions)\n",
    "    dTanh = squash_deriv(predictions)\n",
    "    dPhi = np.einsum('bti, btj, btj, btk -> ijk', error, dTanh, Input, beta, optimize=True)\n",
    "    phi += (eta/batchSize)*dPhi\n",
    "    \n",
    "    return(phi)\n",
    "    "
   ]
  },
  {
   "cell_type": "code",
   "execution_count": 14,
   "metadata": {},
   "outputs": [],
   "source": [
    "#Traning algo, image sequences with one shape.\n",
    "\n",
    "def Training1(dataset, trainSteps, batchSize, sparsePen, derivPen, eta, eta2, numInference, numTransforms):\n",
    "    \n",
    "    #intialize phi\n",
    "    dim = dataset.shape[2]\n",
    "    phi = np.zeros(dim, dim ,numTransforms) #n2 x n2 x 15\n",
    "    \n",
    "    #start training\n",
    "    for trial in range(trainSteps):\n",
    "        \n",
    "        data_batch = dataset[np.random.randint(0,dataset.shape[0],batchSize)] #create random batch\n",
    "        Input = data_batch[:,:(dataset.shape[1]-1),:] #will predict next frame from these\n",
    "        Output = data_batch[:,1:,:] #the frames to be predicted\n",
    "        \n",
    "        #Find beta, fix, then optimize phi\n",
    "        beta = inferBeta(Input, Output, phi, sparsePen, derivPen, eta2)\n",
    "        phi = learnTransform(Input, Output, phi, beta, eta, batchSize)\n",
    "        \n",
    "        #renormalize by capping absolute value to 1\n",
    "        phi = phi/(np.abs(phi).max(axis=(0,1),keepdims=True))\n",
    "        \n",
    "        print(trial, end='\\r')\n",
    "        \n",
    "    \n",
    "    return(phi)\n",
    "    "
   ]
  },
  {
   "cell_type": "code",
   "execution_count": null,
   "metadata": {},
   "outputs": [],
   "source": [
    "# dim = data.shape[2]\n",
    "# phi = np.random.rand(dim, dim ,numTransforms) #n2 x n2 x 15\n",
    "\n",
    "# data_batch = data[np.random.randint(0,data.shape[0],batchSize)] #create random batch\n",
    "# Input = data_batch[:,:(data.shape[1]-1),:] #will predict next frame from these\n",
    "# Output = data_batch[:,1:,:] #the frames to be predicted\n",
    "\n"
   ]
  },
  {
   "cell_type": "code",
   "execution_count": null,
   "metadata": {},
   "outputs": [],
   "source": [
    "learnedPhi = Training1(data, trainSteps, batchSize, sparsePen, derivPen, eta, eta2, numInference, numTransforms)"
   ]
  },
  {
   "cell_type": "code",
   "execution_count": null,
   "metadata": {},
   "outputs": [],
   "source": [
    "#np.save(\"Trial2_learnedPhiv2\", learnedPhiv2)"
   ]
  },
  {
   "cell_type": "code",
   "execution_count": 15,
   "metadata": {},
   "outputs": [],
   "source": [
    "learnPhi = np.load(\"Trial2_learnedPhi8.npy\")"
   ]
  },
  {
   "cell_type": "code",
   "execution_count": 21,
   "metadata": {
    "scrolled": true
   },
   "outputs": [
    {
     "data": {
      "image/png": "[encoded data removed]",
      "text/plain": [
       "<Figure size 1440x1440 with 6 Axes>"
      ]
     },
     "metadata": {
      "needs_background": "light"
     },
     "output_type": "display_data"
    }
   ],
   "source": [
    "fig = plt.figure(figsize=(20,20)) #image sequence from dataset\n",
    "for i in range(6):\n",
    "        fig.add_subplot(1,6,i+1)\n",
    "        plt.imshow((np.linalg.matrix_power(learnPhi[:,:,8],i)@data[14,i]).reshape((imgDim,imgDim)),cmap = \"Greys\")"
   ]
  },
  {
   "cell_type": "code",
   "execution_count": 264,
   "metadata": {},
   "outputs": [
    {
     "data": {
      "text/plain": [
       "(16, 7, 16, 16)"
      ]
     },
     "execution_count": 264,
     "metadata": {},
     "output_type": "execute_result"
    }
   ],
   "source": [
    "normal_matrix = normalMatrix(movie_length, dim, center, radius2, epsilon)\n",
    "normal_matrix.shape"
   ]
  },
  {
   "cell_type": "code",
   "execution_count": 432,
   "metadata": {},
   "outputs": [],
   "source": [
    "def diffMat(movie_length, dim, center, radius2):    \n",
    "    diff_mat = np.empty((2,center.shape[2], movie_length, dim, dim)) #shape 2ktdd\n",
    "    \n",
    "    for k in range(center.shape[2]):\n",
    "        for t in range(movie_length):\n",
    "            for i in range(dim):\n",
    "                for j in range(dim):\n",
    "                    diff_mat[:,k,t,i,j] = (np.array([i,j])-center[:,t,k])\n",
    "\n",
    "                        \n",
    "    return(diff_mat)\n"
   ]
  },
  {
   "cell_type": "code",
   "execution_count": 433,
   "metadata": {},
   "outputs": [],
   "source": [
    "def norm_dens(x ,epsilon):\n",
    "    z = (1/np.sqrt(2*np.pi*epsilon))*np.exp((-(x**2))/(2*epsilon))\n",
    "    return(z)"
   ]
  },
  {
   "cell_type": "code",
   "execution_count": 430,
   "metadata": {},
   "outputs": [],
   "source": [
    "testDiff = diffMat(movie_length, dim, center, radius2)"
   ]
  },
  {
   "cell_type": "code",
   "execution_count": 471,
   "metadata": {},
   "outputs": [
    {
     "data": {
      "text/plain": [
       "<function __main__.norm_dens(x, epsilon)>"
      ]
     },
     "execution_count": 471,
     "metadata": {},
     "output_type": "execute_result"
    }
   ],
   "source": [
    "norm_dens"
   ]
  },
  {
   "cell_type": "code",
   "execution_count": 239,
   "metadata": {},
   "outputs": [],
   "source": [
    "def norMat_dist:\n",
    "    normal_matrix = np.empty((center.shape[2], movie_length, dim,dim)) #shape is ktdd, where k is number of transforms, t is time, d is dim of image\n",
    "    \n",
    "    for k in range(center.shape[2]):\n",
    "        for t in range(movie_length):\n",
    "            for i in range(dim):\n",
    "                for j in range(dim):\n",
    "                    normal_matrix[k,t,i,j] = (1/np.sqrt(2*np.pi*epsilon))*np.exp(-(radius2[t,k]-np.linalg.norm(np.array([i,j])-center[:,t,k])**2)**2/(2*epsilon**2))\n",
    "    \n",
    "    return(normal_matrix)\n",
    "\n",
    "def center_ParDeriv(movie_length, dim, center, radius2, epsilon): #calculates partial deriv for center, where each entry is 2-vector\n",
    "    normal_matrix = normalMatrix(movie_length, dim, center, radius2, epsilon)\n",
    "    distance_pd = np.empty((2,center.shape[2], movie_3length, dim, dim)) #shape 2ktdd\n",
    "    for i in range(dim):\n",
    "        for j in range(dim):\n",
    "            for t in range(movie_length):\n",
    "                for k in range(center.shape[2]):\n",
    "                    distance_pd[:,k,t,i,j] = 2*(np.array([i,j])-center[:,t,k])\n",
    "            \n",
    "    centerPD = np.multiply(distance_pd, normal_matrix)\n",
    "    return(centerPD)"
   ]
  },
  {
   "cell_type": "code",
   "execution_count": 386,
   "metadata": {},
   "outputs": [
    {
     "data": {
      "image/png": "[encoded data removed]",
      "text/plain": [
       "<Figure size 1440x1440 with 6 Axes>"
      ]
     },
     "metadata": {
      "needs_background": "light"
     },
     "output_type": "display_data"
    }
   ],
   "source": [
    "testImgs2 = localImage(Input2, movie_length, dim, center, radius2, epsilon)\n",
    "fig = plt.figure(figsize=(20,20)) #image sequence from dataset\n",
    "for i in range(6):\n",
    "        fig.add_subplot(1,6,i+1)\n",
    "        plt.imshow(testImgs2[0,i],cmap = \"Greys\")"
   ]
  },
  {
   "cell_type": "code",
   "execution_count": 353,
   "metadata": {},
   "outputs": [],
   "source": [
    "def localImage(Input2, movie_length, dim, center, radius2, epsilon):\n",
    "    local_matrix = np.empty((center.shape[2], movie_length, dim,dim)) #shape is ktdd, where k is number of transforms, t is time, d is dim of image\n",
    "    \n",
    "    for k in range(center.shape[2]):\n",
    "        for t in range(movie_length):\n",
    "            for i in range(dim):\n",
    "                for j in range(dim):\n",
    "                    local_matrix[k,t,i,j] = np.linalg.norm(np.array([i,j])-center[:,t,k])/radius2[t,k]\n",
    "    local_matrix[local_matrix <= 1+ epsilon] = 1\n",
    "    local_matrix[local_matrix > 1 + epsilon] = 0\n",
    "    \n",
    "    LocalInput2 = np.multiply(local_matrix, Input2)\n",
    "    \n",
    "    return(LocalInput2)"
   ]
  },
  {
   "cell_type": "code",
   "execution_count": 26,
   "metadata": {},
   "outputs": [],
   "source": [
    "def InferRadius2(Input2, center, Output, radius2, phi, beta, eta3, epsilon, attStep, movie_length, dim):\n",
    "    \n",
    "    for step in range(attStep):\n",
    "    \n",
    "        localimg = localImage(Input2, movie_length, dim, center, radius2, epsilon).reshape((center.shape[2],movie_length, Input2.shape[1]**2)) #calculate localized images and reshape\n",
    "        \n",
    "        predictions = np.einsum('tk,ijk,ktj -> ti', beta, phi, localimg, optimize=True)\n",
    "        error = Output - squash(predictions)\n",
    "        dTanh = squash_deriv(predictions)\n",
    "        ParDeriv = np.multiply(normalMatrix(movie_length, dim, center, radius2, epsilon), Input2).reshape((center.shape[2],movie_length, Input2.shape[1]**2))\n",
    "        #ParDeriv: each entry of matrix, reshaped as vector, is derivative of localized image wrt radius2\n",
    "        dR = np.einsum('ti, tk, ijk, tj, ktj -> tk', error, beta, phi, dTanh, ParDeriv, optimize=True)\n",
    "        radius2 += eta3*dR\n",
    "                                                                                                                      \n",
    "                                                                                                                \n",
    "    return(radius2)      "
   ]
  },
  {
   "cell_type": "code",
   "execution_count": 27,
   "metadata": {},
   "outputs": [],
   "source": [
    "def InferCenter(Input2, center, Output, radius2, phi, beta, eta4, epsilon, attStep, movie_length, dim):\n",
    "    \n",
    "    for step in range(attStep):\n",
    "    \n",
    "        localimg = localImage(Input2, movie_length, dim, center, radius2, epsilon).reshape((center.shape[2],movie_length, Input2.shape[1]**2)) #calculate localized images and reshape\n",
    "        \n",
    "        predictions = np.einsum('tk,ijk,ktj -> ti', beta, phi, localimg, optimize=True)\n",
    "        error = Output - squash(predictions)\n",
    "        dTanh = squash_deriv(predictions)\n",
    "        distance = dist_Mat(movie_length, dim, center, radius2)\n",
    "        PD_1 = norm_dens(distance)\n",
    "        PD_2 = np.ones_like(distance)\n",
    "        PD_2 = np.einsum('tk,')\n",
    "        centerPD = (1/epsilon)*(localimg)\n",
    "        centerPD = .reshape((2,center.shape[2],movie_length, Input2.shape[1]**2))\n",
    "        #ParDeriv: each entry of matrix, reshaped as vector, is derivative of localized image wrt radius2\n",
    "        dC = np.einsum('ti, tk, ijk, cktj -> ctk', error, beta, phi, centerPD, optimize=True)\n",
    "        center += eta4*dC\n",
    "                                                                                                                      \n",
    "                                                                                                                \n",
    "    return(center)        "
   ]
  },
  {
   "cell_type": "code",
   "execution_count": 467,
   "metadata": {},
   "outputs": [],
   "source": [
    "def InferNbd(Input2, center, Output, radius2, phi, beta, eta3, eta4, epsilon, attStep, movie_length, dim):\n",
    "    for step in range(attStep):\n",
    "        localimg = localImage(Input2, movie_length, dim, center, radius2, epsilon).reshape((center.shape[2],movie_length, Input2.shape[1]**2)) #calculate localized images and reshape\n",
    "        \n",
    "        predictions = np.einsum('tk,ijk,ktj -> ti', beta, phi, localimg, optimize = True)\n",
    "        error = Output - squash(predictions)\n",
    "        dTanh = squash_deriv(predictions)\n",
    "        diff = diffMat(movie_length, dim, center, radius2)\n",
    "        dist = np.linalg.norm(diff,axis=0)+.01\n",
    "        rad_mat = np.ones_like(dist)\n",
    "        rad_mat = np.multiply(rad_mat,np.expand_dims(np.expand_dims(radius2.T, axis=2), axis = 3)) #array where kt is radius over all ij entries\n",
    "        PD_1 = norm_dens(dist, epsilon)\n",
    "        PD_2 = norm_dens(dist-rad_mat, epsilon)\n",
    "        PD_2 = (1/epsilon)*np.multiply(PD_1 - PD_2, diff/dist).reshape((2,center.shape[2],movie_length, Input2.shape[1]**2))                \n",
    "        centerPD = np.multiply(localimg, PD_2)\n",
    "        radPD = (1/epsilon)*np.multiply(localimg, PD_1.reshape(center.shape[2],movie_length, Input2.shape[1]**2)) #radius partial deriv\n",
    "        \n",
    "        \n",
    "        dR = np.einsum('ti, tk, ijk, tj, ktj -> tk', error, beta, phi, dTanh, radPD, optimize= True)\n",
    "        radius2 += eta3*dR\n",
    "        dC = np.einsum('ti, tk, ijk, tj, cktj -> ctk', error, beta, phi, dTanh, centerPD, optimize = True)\n",
    "        center += eta4*dC\n",
    "    return(radius2,center)"
   ]
  },
  {
   "cell_type": "code",
   "execution_count": 29,
   "metadata": {},
   "outputs": [],
   "source": [
    "def InferBeta2(Input2, center, Output, radius2, phi ,beta, eta, epsilon, betaStep, movie_length, dim):\n",
    "    \n",
    "    for step in range(betaStep):\n",
    "        \n",
    "        localimg = localImage(Input2, Input2.shape[0], dim, center, radius2, epsilon).reshape((center.shape[2],movie_length, Input2.shape[1]**2)) #calculate localized images and reshape\n",
    "        \n",
    "        predictions = np.einsum('tk,ijk,ktj -> ti', beta, phi, localimg, optimize=True)\n",
    "        error = Output - squash(predictions)\n",
    "        dTanh = squash_deriv(predictions)\n",
    "        dBeta = np.einsum('ti,ijk, tj, ktj -> tk', error, phi, dTanh, localimg, optimize=True) - sparsePen*sparseDeriv(np.expand_dims(beta,axis=0))[0,:,:] - derivPen*timeDeriv(np.expand_dims(beta,axis=0))[0,:,:]\n",
    "        #just a bit of reshaping magic above to make the functions work, since sparse/derivPen made for data with extra batch dim\n",
    "        beta += eta2*dBeta\n",
    "    \n",
    "    return(beta)"
   ]
  },
  {
   "cell_type": "code",
   "execution_count": 468,
   "metadata": {},
   "outputs": [],
   "source": [
    "def InferLocal(movie_seq, phi, sparsePen, derivPen, eta2, eta3, eta4, betaStep, attStep, numInference): \n",
    "    #now want to infer beta, center, and radii for a single movie sequence\n",
    "    #***RADII ARE SQUARED, to make computing the derivative easier***\n",
    "    #assume movie sequence is shape txn2, where t is length (movie_length) and n2 is product of dimensions of 2d image\n",
    "    \n",
    "    dim = int(np.sqrt(movie_seq.shape[1]))\n",
    "    Input = movie_seq[:(movie_seq.shape[0]-1)]\n",
    "    Output = movie_seq[1:]\n",
    "    Input2 = Input.reshape((Input.shape[0],dim,dim)) #just reshape to make region of interest indices more natural\n",
    "    movie_length = Input2.shape[0]\n",
    "    \n",
    "    beta = np.zeros((Input2.shape[0],phi.shape[2])) #initialize beta at 0. beta is shape tk. movie_seq first dim is t\n",
    "    center = (dim/2)*np.ones((2,movie_length,phi.shape[2])) #shape 2tk (2 since center is 2-vector). initialize centers at center of image. each center is 2-vector\n",
    "    radius2 = ((dim/2+1)**2)*np.ones((movie_length,phi.shape[2])) # shape tk.initialize radius2 at 17^2, so start off region of interest as entire image\n",
    "    \n",
    "    for bigStep in range(numInference):\n",
    "        beta1 = InferBeta2(Input2, center, Output, radius2, phi ,beta, eta, epsilon, betaStep, movie_length, dim)\n",
    "        radius2, center = InferNbd(Input2, center, Output, radius2, phi, beta1, eta3, eta4, epsilon, attStep, movie_length, dim)\n",
    "        print(bigStep, end = '\\r')\n",
    "    \n",
    "    finalImg = localImage(Input2, movie_length, dim, center, radius2, epsilon).reshape((center.shape[2],movie_length, Input.shape[1]))\n",
    "    final_predictions = np.einsum('tk,ijk,ktj -> ti', beta, phi, finalImg, optimize = True)\n",
    "    \n",
    "    fig = plt.figure(figsize = (20,6)) #plot the figures, top is ground truth, bottom is predictions\n",
    "    for i in range(movie_length):\n",
    "        for j in range(2):\n",
    "            fig.add_subplot(2,movie_length,movie_length*j+i+1)\n",
    "            if j == 0:\n",
    "                plt.imshow(Output[i].reshape((dim,dim)),cmap = \"Greys\")\n",
    "            else: \n",
    "                plt.imshow(final_predictions[i].reshape((dim,dim)),cmap=\"Greys\")\n",
    "    \n",
    "    return((beta,radius2,center))\n"
   ]
  },
  {
   "cell_type": "code",
   "execution_count": 52,
   "metadata": {},
   "outputs": [],
   "source": [
    "def InferLocal2(movie_seq, phi, sparsePen, derivPen, eta2, eta3, eta4, betaStep, attStep, numInference): \n",
    "    #now want to infer beta, center, and radii for a single movie sequence\n",
    "    #***RADII ARE SQUARED, to make computing the derivative easier***\n",
    "    #assume movie sequence is shape txn2, where t is length (movie_length) and n2 is product of dimensions of 2d image\n",
    "    \n",
    "    dim = int(np.sqrt(movie_seq.shape[1]))\n",
    "    Input = movie_seq[:(movie_seq.shape[0]-1)]\n",
    "    Output = movie_seq[1:]\n",
    "    Input2 = Input.reshape((Input.shape[0],dim,dim)) #just reshape to make region of interest indices more natural\n",
    "    movie_length = Input2.shape[0]\n",
    "    \n",
    "    beta = np.zeros((Input2.shape[0],phi.shape[2])) #initialize beta at 0. beta is shape tk. movie_seq first dim is t\n",
    "    center = (dim/2)*np.ones((2,movie_length,phi.shape[2])) #shape 2tk (2 since center is 2-vector). initialize centers at center of image. each center is 2-vector\n",
    "    radius2 = (17**2)*np.ones((movie_length,phi.shape[2])) # shape tk.initialize radius2 at 17^2, so start off region of interest as entire image\n",
    "    \n",
    "    for bigStep in range(numInference):\n",
    "        beta = InferBeta2(Input2, center, Output, radius2, phi ,beta, eta, epsilon, betaStep, movie_length, dim)\n",
    "        radius2 = InferRadius2(Input2, center, Output, radius2, phi, beta, eta3, epsilon, attStep, movie_length, dim)\n",
    "        center = InferCenter(Input2, center, Output, radius2, phi, beta, eta4, epsilon, attStep, movie_length, dim)\n",
    "        print(bigStep)\n",
    "    \n",
    "    finalImg = localImage(Input2, movie_length, dim, center, radius2, epsilon).reshape((center.shape[2],movie_length, Input.shape[1]))\n",
    "    final_predictions = np.einsum('tk,ijk,ktj -> ti', beta, phi, finalImg, optimize = True)\n",
    "    \n",
    "    fig = plt.figure(figsize = (20,6)) #plot the figures, top is ground truth, bottom is predictions\n",
    "    for i in range(movie_length):\n",
    "        for j in range(2):\n",
    "            fig.add_subplot(2,movie_length,movie_length*j+i+1)\n",
    "            if j == 0:\n",
    "                plt.imshow(Output[i].reshape((dim,dim)),cmap = \"Greys\")\n",
    "            else: \n",
    "                plt.imshow(final_predictions[i].reshape((dim,dim)),cmap=\"Greys\")\n",
    "    \n",
    "    return((beta,radius2,center))\n"
   ]
  },
  {
   "cell_type": "code",
   "execution_count": 487,
   "metadata": {},
   "outputs": [
    {
     "name": "stdout",
     "output_type": "stream",
     "text": [
      "49\r"
     ]
    },
    {
     "data": {
      "image/png": "[encoded data removed]",
      "text/plain": [
       "<Figure size 1440x432 with 14 Axes>"
      ]
     },
     "metadata": {
      "needs_background": "light"
     },
     "output_type": "display_data"
    }
   ],
   "source": [
    "testrun2 = InferLocal(test[20], learnPhi, sparsePen, derivPen, eta2, eta3, eta4, betaStep, attStep, numInf2)"
   ]
  },
  {
   "cell_type": "code",
   "execution_count": 36,
   "metadata": {},
   "outputs": [
    {
     "name": "stdout",
     "output_type": "stream",
     "text": [
      "24\r"
     ]
    },
    {
     "data": {
      "image/png": "[encoded data removed]",
      "text/plain": [
       "<Figure size 1440x432 with 14 Axes>"
      ]
     },
     "metadata": {
      "needs_background": "light"
     },
     "output_type": "display_data"
    }
   ],
   "source": [
    "testrun = InferLocal(test[20], learnPhi, sparsePen, derivPen, eta2, eta3, eta4, betaStep, attStep, numInf2)"
   ]
  },
  {
   "cell_type": "code",
   "execution_count": null,
   "metadata": {},
   "outputs": [],
   "source": [
    "infertBeta\n",
    "final_predictions = np.einsum('tk,ijk,ktj -> ti', beta, phi, test[20], optimize = True)\n",
    "\n",
    "fig = plt.figure(figsize = (20,6)) #plot the figures, top is ground truth, bottom is predictions\n",
    "for i in range(movie_length):\n",
    "    for j in range(2):\n",
    "        fig.add_subplot(2,movie_length,movie_length*j+i+1)\n",
    "        if j == 0:\n",
    "            plt.imshow(Output[i].reshape((dim,dim)),cmap = \"Greys\")\n",
    "        else: \n",
    "            plt.imshow(final_predictions[i].reshape((dim,dim)),cmap=\"Greys\")"
   ]
  },
  {
   "cell_type": "code",
   "execution_count": 35,
   "metadata": {},
   "outputs": [
    {
     "data": {
      "image/png": "[encoded data removed]",
      "text/plain": [
       "<Figure size 1440x1440 with 8 Axes>"
      ]
     },
     "metadata": {
      "needs_background": "light"
     },
     "output_type": "display_data"
    }
   ],
   "source": [
    "fig = plt.figure(figsize=(20,20)) #image sequence from dataset\n",
    "for i in range(mov_length):\n",
    "        fig.add_subplot(1,mov_length,i+1)\n",
    "        plt.imshow(test[8,i].reshape((imgDim,imgDim)),cmap = \"Greys\")"
   ]
  },
  {
   "cell_type": "code",
   "execution_count": 472,
   "metadata": {},
   "outputs": [],
   "source": [
    "testrun_info = testrun[:2]\n",
    "testrun2_info = testrun2[:2]"
   ]
  },
  {
   "cell_type": "code",
   "execution_count": null,
   "metadata": {},
   "outputs": [],
   "source": [
    "fig_testrun = plt.figure(figsize=(20,20)) #image sequence from dataset\n",
    "for i in range(2):\n",
    "        fig_testrun.add_subplot(1,2,i+1)\n",
    "        plt.bar(list(range(16)), (testrun_info[i])[0,:])"
   ]
  },
  {
   "cell_type": "code",
   "execution_count": 492,
   "metadata": {},
   "outputs": [
    {
     "data": {
      "image/png": "[encoded data removed]",
      "text/plain": [
       "<Figure size 720x360 with 2 Axes>"
      ]
     },
     "metadata": {
      "needs_background": "light"
     },
     "output_type": "display_data"
    }
   ],
   "source": [
    "fig_testrun = plt.figure(figsize=(10,5)) #image sequence from dataset\n",
    "for i in range(2):\n",
    "        fig_testrun.add_subplot(1,2,i+1)\n",
    "        plt.bar(list(range(16)), (testrun2_info[i])[1,:])"
   ]
  },
  {
   "cell_type": "code",
   "execution_count": null,
   "metadata": {},
   "outputs": [],
   "source": [
    "plt.bar(list(range(16)),testradius2[3,:])"
   ]
  }
 ],
 "metadata": {
  "kernelspec": {
   "display_name": "Python 3",
   "language": "python",
   "name": "python3"
  },
  "language_info": {
   "codemirror_mode": {
    "name": "ipython",
    "version": 3
   },
   "file_extension": ".py",
   "mimetype": "text/x-python",
   "name": "python",
   "nbconvert_exporter": "python",
   "pygments_lexer": "ipython3",
   "version": "3.7.3"
  }
 },
 "nbformat": 4,
 "nbformat_minor": 2
}
