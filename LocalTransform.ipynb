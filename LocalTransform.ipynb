{
 "cells": [
  {
   "cell_type": "code",
   "execution_count": 9,
   "metadata": {},
   "outputs": [],
   "source": [
    "import torch\n",
    "import numpy as np\n",
    "%matplotlib inline\n",
    "import matplotlib.pyplot as plt\n",
    "from skimage.draw import random_shapes\n",
    "import cv2\n",
    "import pandas as pd\n",
    "import random"
   ]
  },
  {
   "cell_type": "code",
   "execution_count": 1,
   "metadata": {},
   "outputs": [],
   "source": [
    "numTransforms = 15\n",
    "trainSteps = 10000\n",
    "batchSize = 30 #training \n",
    "sparsePen = 1\n",
    "derivPen = .5\n",
    "epsilon = .01 #variance of normal desntiy in the smoothed bump function.\n",
    "eta = .01 #learning rate of phi, the dictionary of transforms\n",
    "eta2 = .05 #learning rate of beta, the transform coeff\n",
    "eta3 = .1 #Learning rate of center\n",
    "eta4 = .1 #Learning rate of radii\n",
    "numInference = 15*10 #number of basis trans * length of movie sequence"
   ]
  },
  {
   "cell_type": "code",
   "execution_count": 20,
   "metadata": {},
   "outputs": [],
   "source": [
    "#Training algorithm, image sequences with one shape. No need to infer center/radii yet.\n",
    "def timeDiff(beta):\n",
    "    #assuming beta has shape bkt, where k for trans, t for length, B for number of images (usually batch size)\n",
    "    \n",
    "    Zeroes = np.zeros((beta.shape[0],1,beta.shape[2]))\n",
    "    timeDeriv = np.diff(beta, axis= 1)\n",
    "    X = np.concatenate((Zeroes, timeDeriv), axis=1)\n",
    "    Y = np.concatenate((timeDeriv,Zeroes), axis =1)\n",
    "    Z = -1*np.sign(X)+np.sign(Y)\n",
    "    \n",
    "    return(Z)\n",
    "\n",
    "def inferBeta(Input, Output, phi, sparsePen, derivPen, eta2):\n",
    "    #Assume data has shape (B, T, n2), where number of images(usually batch size) , T is time, and n2 is n^2 for nxn image\n",
    "    #phi is of shape (i,i',k) where i,i' denote image dim, k denotes transform, T is time, and B is batch\n",
    "    #Input are first T-1 frames. Output are frames 2 to T. Infer i^th frame from previous.\n",
    "    \n",
    "    beta = np.zeros((Input.shape[0],Input.shape[1],phi.shape[2])) #initialize beta at 0. beta is shape btk\n",
    "    \n",
    "    for step in range(numInference):\n",
    "        predictions = np.einsum('btk,ijk,btj -> bti', beta, phi, Input)\n",
    "        error = Output - predictions\n",
    "        dBeta = np.einsum('bti,ijk,btj -> btk', error, phi, Input) - sparsePen*np.sign(beta) - derivPen*timeDiff(beta)\n",
    "        beta += eta2*dBeta\n",
    "        \n",
    "    return(beta)\n",
    "    \n",
    "def learnTransform(Input, Output, phi, beta, eta, batchSize):\n",
    "    \n",
    "    predictions = np.einsum('btk,ijk,btj -> bti', beta, phi, Input)\n",
    "    error = Output - predictions\n",
    "    dPhi = np.einsum('bti, btj, btk -> ijk', error, Input, beta)\n",
    "    phi += (eta/batchSize)*dPhi\n",
    "    \n",
    "    return(phi)\n",
    "    "
   ]
  },
  {
   "cell_type": "code",
   "execution_count": 12,
   "metadata": {},
   "outputs": [],
   "source": [
    "#Traning algo, image sequences with one shape.\n",
    "\n",
    "def Training1(dataset, trainSteps, batchSize, sparsePen, derivPen, eta, eta2, numInference, numTransforms):\n",
    "    \n",
    "    #intialize phi\n",
    "    dim = dataset.shape[2]\n",
    "    phi = np.random.rand(dim, dim ,numTransforms)\n",
    "    \n",
    "    #start training\n",
    "    for trial in range(trainSteps):\n",
    "        \n",
    "        data_batch = dataset[np.random.randint(0,dataset.shape[0],batchSize)] #create random batch\n",
    "        Input = data_batch[:,:9,:] #will predict next frame from these\n",
    "        Output = data_batch[:,1:10,:] #the frames to be predicted\n",
    "        \n",
    "        #Find beta, fix, then optimize phi\n",
    "        beta = inferBeta(Input, Output, phi, sparsePen, derivPen, eta2, numTransforms)\n",
    "        phi = learnTransform(Input, Output, phi, beta, eta, Batchsize)\n",
    "        \n",
    "        #renormalize by capping absolute value to 1\n",
    "        phi = phi/(np.abs(phi).max(dim=(0,1),keepdims=True))\n",
    "        \n",
    "    \n",
    "    return(phi)\n",
    "    "
   ]
  },
  {
   "cell_type": "code",
   "execution_count": null,
   "metadata": {},
   "outputs": [],
   "source": [
    "def Localized_image(Input2, center, radius, epsilon):\n",
    "    Local_matrix = np.empty(Input2.shape) #shape txn2, t for time, n2 for nxn image\n",
    "    \n",
    "    for t in range(Input2.shape[0]):\n",
    "        for i in range(Input2.shape[1]):\n",
    "            for j in range(Input2.shape[2]):\n",
    "                Local_matrix[t,i,j] = np.abs(np.dot(np.array([i,j])-center[]))    "
   ]
  },
  {
   "cell_type": "code",
   "execution_count": null,
   "metadata": {},
   "outputs": [],
   "source": [
    "def InferCenter(Input, Input2, center, radius, error, phi, beta, eta3, eta4, numInference2):\n",
    "    \n",
    "    #this same numInference parameter as with Inferbeta. Might be better to let update of ceneters/radii to have own number of steps\n",
    "    \n",
    "    for step in range(numInference2):\n",
    "        attention = \n",
    "        localInput = \n",
    "        \n",
    "    "
   ]
  },
  {
   "cell_type": "code",
   "execution_count": 4,
   "metadata": {},
   "outputs": [],
   "source": [
    "def InferLocal(movie_seq, phi, sparsePen, derivPen, eta2): \n",
    "    #now want to infer beta, center, and radii for a single movie sequence\n",
    "    #assume movie sequence is shape txn2, where t is length (time) and n2 is product of dimensions of 2d image\n",
    "    \n",
    "\n",
    "    dim = np.sqrt(movie_seq.shape[1])\n",
    "    Input = movie_seq[:(time-1)]\n",
    "    Output = movie_seq[1:]\n",
    "    Input2 = Input.reshape((Input.shape[0],dim,dim)) #just reshape to make region of interest indices more natural\n",
    "    numInference2 = 10 #this is arbitrary. want to update each of beta, c, r a little\n",
    "    time = Input2.shape[0]\n",
    "    \n",
    "    beta = np.zeros((movie_seq.shape[0],phi.shape[2])) #initialize beta at 0. beta is shape tk. movie_seq first dim is t\n",
    "    center = (dim/2)*np.ones((2,Input2.shape[0],phi.shape[2])) #initialize centers at center of image. each center is 2-vector\n",
    "    radius = 17*np.ones((Input2.shape[0],phi.shape[2])) #initialize radius at 17, so start off region of interest as entire image\n",
    "    "
   ]
  },
  {
   "cell_type": "code",
   "execution_count": null,
   "metadata": {},
   "outputs": [],
   "source": []
  },
  {
   "cell_type": "code",
   "execution_count": null,
   "metadata": {},
   "outputs": [],
   "source": []
  }
 ],
 "metadata": {
  "kernelspec": {
   "display_name": "Python 3",
   "language": "python",
   "name": "python3"
  },
  "language_info": {
   "codemirror_mode": {
    "name": "ipython",
    "version": 3
   },
   "file_extension": ".py",
   "mimetype": "text/x-python",
   "name": "python",
   "nbconvert_exporter": "python",
   "pygments_lexer": "ipython3",
   "version": "3.7.1"
  }
 },
 "nbformat": 4,
 "nbformat_minor": 2
}
